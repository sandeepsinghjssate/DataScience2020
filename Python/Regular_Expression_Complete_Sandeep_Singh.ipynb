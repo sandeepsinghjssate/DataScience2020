{
  "nbformat": 4,
  "nbformat_minor": 0,
  "metadata": {
    "colab": {
      "name": "Regular_Expression.ipynb",
      "provenance": [],
      "collapsed_sections": []
    },
    "kernelspec": {
      "name": "python3",
      "display_name": "Python 3"
    }
  },
  "cells": [
    {
      "cell_type": "code",
      "metadata": {
        "id": "xMLU30SQxZCH",
        "colab_type": "code",
        "colab": {
          "base_uri": "https://localhost:8080/",
          "height": 35
        },
        "outputId": "6db72d96-e57f-4fce-b1f1-697f866489e8"
      },
      "source": [
        "#Write the regular expression and use proper method which gives output as:- 'cat' in str.\n",
        "import re\n",
        "str1 = 'cat mat bat rat'\n",
        "\n",
        "reg=r'c\\w\\w'\n",
        "print(re.findall(reg,str1))\n"
      ],
      "execution_count": null,
      "outputs": [
        {
          "output_type": "stream",
          "text": [
            "['cat']\n"
          ],
          "name": "stdout"
        }
      ]
    },
    {
      "cell_type": "code",
      "metadata": {
        "id": "zMiSTGMHx6Dv",
        "colab_type": "code",
        "colab": {
          "base_uri": "https://localhost:8080/",
          "height": 35
        },
        "outputId": "98ff5c2a-8df3-47b7-b56f-3482dd6aa2b5"
      },
      "source": [
        "#Write the regular expression and use proper method which gives output as:- 'rat' in str.\n",
        "import re\n",
        "str1 = 'cat mat bat rat'\n",
        "\n",
        "reg=r'r..'\n",
        "print(re.findall(reg,str1))"
      ],
      "execution_count": null,
      "outputs": [
        {
          "output_type": "stream",
          "text": [
            "['rat']\n"
          ],
          "name": "stdout"
        }
      ]
    },
    {
      "cell_type": "code",
      "metadata": {
        "id": "qBoYFjf5x6Mm",
        "colab_type": "code",
        "colab": {
          "base_uri": "https://localhost:8080/",
          "height": 124
        },
        "outputId": "322e3161-6ce0-45a6-dcf8-7afddfc191f6"
      },
      "source": [
        "#Write the regular expression and use proper method which gives output as:- ['mat', 'man'] in str.\n",
        "import re\n",
        "str1 = 'cat mat bat rat man'\n",
        "\n",
        "reg=r'm\\w\\w'\n",
        "print(re.findall(reg,str1))\n",
        "reg=r'm..'\n",
        "print(re.findall(reg,str1))\n",
        "reg=r'm\\w*'\n",
        "print(re.findall(reg,str1))\n",
        "reg=r'm\\w+'\n",
        "print(re.findall(reg,str1))\n",
        "reg=r\"m[a-z][a-z]\"\n",
        "print(re.findall(reg,str1))\n",
        "reg=r\"m[a-z]\"\n",
        "print(re.findall(reg,str1))"
      ],
      "execution_count": null,
      "outputs": [
        {
          "output_type": "stream",
          "text": [
            "['mat', 'man']\n",
            "['mat', 'man']\n",
            "['mat', 'man']\n",
            "['mat', 'man']\n",
            "['mat', 'man']\n",
            "['ma', 'ma']\n"
          ],
          "name": "stdout"
        }
      ]
    },
    {
      "cell_type": "code",
      "metadata": {
        "id": "qmxmqzX_x6QR",
        "colab_type": "code",
        "colab": {
          "base_uri": "https://localhost:8080/",
          "height": 35
        },
        "outputId": "adade9f8-d3cc-4f8b-faf1-ae2e9d61c6e2"
      },
      "source": [
        "#Write the regular expression and use proper method which gives output as:- \n",
        "#['Python', 's', 'Programming', 'is', 'very', 'easy', 'to', 'learn'] in str.\n",
        "import re\n",
        "str1 = \"Python's Programming: is very easy to learn\"\n",
        "\n",
        "reg=r\"\\W+\"\n",
        "print(re.split(reg,str1))\n"
      ],
      "execution_count": null,
      "outputs": [
        {
          "output_type": "stream",
          "text": [
            "['Python', 's', 'Programming', 'is', 'very', 'easy', 'to', 'learn']\n"
          ],
          "name": "stdout"
        }
      ]
    },
    {
      "cell_type": "code",
      "metadata": {
        "id": "LxGl1o7px6Vi",
        "colab_type": "code",
        "colab": {
          "base_uri": "https://localhost:8080/",
          "height": 35
        },
        "outputId": "221ccd83-4dc9-44e1-f5b7-06c97699b281"
      },
      "source": [
        "#Write the regular expression and use proper method which gives output as:- Python Programming: is very easy to learn in str.\n",
        "import re\n",
        "str1 = \"Python's Programming: is very easy to learn\"\n",
        "reg=r\"\\'\\w+\"\n",
        "print(re.sub(reg,'',str1))\n"
      ],
      "execution_count": null,
      "outputs": [
        {
          "output_type": "stream",
          "text": [
            "Python Programming: is very easy to learn\n"
          ],
          "name": "stdout"
        }
      ]
    },
    {
      "cell_type": "code",
      "metadata": {
        "id": "9uIpb614x6Yb",
        "colab_type": "code",
        "colab": {
          "base_uri": "https://localhost:8080/",
          "height": 35
        },
        "outputId": "e4573072-5445-45b7-c546-045ad822e261"
      },
      "source": [
        "#Write the regular expression and use proper method which Retrieves all words starting with p.\n",
        "#Output:- ['peter', 'per', 'picked', 'peck', 'pickled', 'peppers']\n",
        "import re\n",
        "str1 = \"peter giper picked a peck of pickled peppers\"\n",
        "\n",
        "reg=r'p\\w+'\n",
        "print(re.findall(reg,str1))\n"
      ],
      "execution_count": null,
      "outputs": [
        {
          "output_type": "stream",
          "text": [
            "['peter', 'per', 'picked', 'peck', 'pickled', 'peppers']\n"
          ],
          "name": "stdout"
        }
      ]
    },
    {
      "cell_type": "code",
      "metadata": {
        "id": "N0vFkePdx6bN",
        "colab_type": "code",
        "colab": {
          "base_uri": "https://localhost:8080/",
          "height": 35
        },
        "outputId": "18a3a897-fea0-4b74-9103-2a9eccdb43fc"
      },
      "source": [
        "#Write the regular expression and use proper method which Retrieves all words starting with p except 'per' which is not a separate word.\n",
        "#Output:- ['peter', 'picked', 'peck', 'pickled', 'peppers']\n",
        "import re\n",
        "str1 = \"peter giper picked a peck of pickled peppers\"\n",
        "\n",
        "reg=r'\\bp[a-zA-Z]+'\n",
        "print(re.findall(reg,str1))"
      ],
      "execution_count": 4,
      "outputs": [
        {
          "output_type": "stream",
          "text": [
            "['peter', 'picked', 'peck', 'pickled', 'peppers']\n"
          ],
          "name": "stdout"
        }
      ]
    },
    {
      "cell_type": "code",
      "metadata": {
        "id": "mbiypO3yx6eE",
        "colab_type": "code",
        "colab": {
          "base_uri": "https://localhost:8080/",
          "height": 35
        },
        "outputId": "44754e47-acfc-4685-c284-8c2a9d418cae"
      },
      "source": [
        "#Write the regular expression and use proper method which Retrieves all words starting with a digit.\n",
        "#Output:- ['8th', '11th']\n",
        "import re\n",
        "str1 = 'The election in delhi will be held on 8th and result for the same will be declared on 11th'\n",
        "\n",
        "reg= r'\\d\\w+'\n",
        "print(re.findall(reg,str1))"
      ],
      "execution_count": 24,
      "outputs": [
        {
          "output_type": "stream",
          "text": [
            "['8th', '11th']\n"
          ],
          "name": "stdout"
        }
      ]
    },
    {
      "cell_type": "code",
      "metadata": {
        "id": "6ZUWWd6bx6g8",
        "colab_type": "code",
        "colab": {
          "base_uri": "https://localhost:8080/",
          "height": 35
        },
        "outputId": "d794a0fb-b0d1-42dc-9500-d6fe9ed96832"
      },
      "source": [
        "#Write the regular expression and use proper method which Retrieves all words having 5 characters.\n",
        "#Output:- ['peter', 'giper']\n",
        "import re\n",
        "str1 = \"peter giper picked a peck of pickled peppers\"\n",
        "\n",
        "reg= r'\\b\\w{5}\\b'\n",
        "print(re.findall(reg,str1))\n",
        "\n"
      ],
      "execution_count": 19,
      "outputs": [
        {
          "output_type": "stream",
          "text": [
            "['peter', 'giper']\n"
          ],
          "name": "stdout"
        }
      ]
    },
    {
      "cell_type": "code",
      "metadata": {
        "id": "syuXvEXox6jt",
        "colab_type": "code",
        "colab": {
          "base_uri": "https://localhost:8080/",
          "height": 35
        },
        "outputId": "a76fc1d2-d739-452b-c74f-74c80d688ca8"
      },
      "source": [
        "#Write the regular expression and use proper method which Retrieves all words having at least 4 characters.\n",
        "#Output:- ['Retrieving', 'all', 'words', 'having', 'least', 'characters']\n",
        "import re\n",
        "str1 = \"Retrieving all words having at least 4 characters\"\n",
        "\n",
        "reg= r'\\b\\w{4,}\\b'\n",
        "print(re.findall(reg,str1))\n"
      ],
      "execution_count": 18,
      "outputs": [
        {
          "output_type": "stream",
          "text": [
            "['Retrieving', 'words', 'having', 'least', 'characters']\n"
          ],
          "name": "stdout"
        }
      ]
    },
    {
      "cell_type": "code",
      "metadata": {
        "id": "MtXo1Hf8x6ma",
        "colab_type": "code",
        "colab": {
          "base_uri": "https://localhost:8080/",
          "height": 35
        },
        "outputId": "12315c34-a6b5-4225-b394-612615534cf0"
      },
      "source": [
        "#Write the regular expression and use proper method which Retrieves all words having at characters between 3 to 5 words.\n",
        "#Output:- ['all', 'words', 'least']\n",
        "import re\n",
        "str1 = \"Retrieving all words having at least 4 characters\"\n",
        "\n",
        "reg= r'\\b\\w{3,5}\\b'\n",
        "print(re.findall(reg,str1))"
      ],
      "execution_count": 17,
      "outputs": [
        {
          "output_type": "stream",
          "text": [
            "['all', 'words', 'least']\n"
          ],
          "name": "stdout"
        }
      ]
    },
    {
      "cell_type": "code",
      "metadata": {
        "id": "RlvMct7xx6pE",
        "colab_type": "code",
        "colab": {
          "base_uri": "https://localhost:8080/",
          "height": 35
        },
        "outputId": "83dda0c0-d90f-4829-f70d-81d1f539f8c3"
      },
      "source": [
        "#Write the regular expression and use proper method which Retrieves only digits from the string.\n",
        "#Output:- ['8', '11']\n",
        "import re\n",
        "str1 = 'The election in delhi will be held on 8 and result for the same will be declared on 11'\n",
        "\n",
        "reg = r'\\d+'\n",
        "print(re.findall(reg,str1))"
      ],
      "execution_count": 14,
      "outputs": [
        {
          "output_type": "stream",
          "text": [
            "['8', '11']\n"
          ],
          "name": "stdout"
        }
      ]
    },
    {
      "cell_type": "code",
      "metadata": {
        "id": "wdD4cSyJx6us",
        "colab_type": "code",
        "colab": {
          "base_uri": "https://localhost:8080/",
          "height": 35
        },
        "outputId": "92b66253-4577-4fd3-a014-85798db15c75"
      },
      "source": [
        "#Write the regular expression and use proper method which Retrieves last word if starts with c from the given string.\n",
        "#Output:- ['characters']\n",
        "import re\n",
        "str1 = \"Retrieving all words having at least 4 characters char\"\n",
        "\n",
        "reg=r'\\bc\\w+$'\n",
        "print(re.findall(reg,str1))"
      ],
      "execution_count": 13,
      "outputs": [
        {
          "output_type": "stream",
          "text": [
            "['char']\n"
          ],
          "name": "stdout"
        }
      ]
    },
    {
      "cell_type": "code",
      "metadata": {
        "id": "HsVGzJVbx6sl",
        "colab_type": "code",
        "colab": {
          "base_uri": "https://localhost:8080/",
          "height": 35
        },
        "outputId": "f0fedf58-ce5a-4ab6-b3b6-a66ef008e2bc"
      },
      "source": [
        "#Write the regular expression and use proper method which Retrieves a phone number from the given string.\n",
        "#Output:- 1234567890\n",
        "import re\n",
        "str1 = \"Learnbay : 1234567890\"\n",
        "\n",
        "reg = r'\\b[0-9]+\\b'\n",
        "print(re.findall(reg,str1))"
      ],
      "execution_count": 7,
      "outputs": [
        {
          "output_type": "stream",
          "text": [
            "['1234567890']\n"
          ],
          "name": "stdout"
        }
      ]
    },
    {
      "cell_type": "code",
      "metadata": {
        "id": "LvG3jTtvyQKk",
        "colab_type": "code",
        "colab": {
          "base_uri": "https://localhost:8080/",
          "height": 35
        },
        "outputId": "96db3e2e-a669-4c72-f0f6-63aa510c7c8b"
      },
      "source": [
        "##Write the regular expression and use proper method which Etracts name from the string but not number.\n",
        "#Output:- Learnbay : \n",
        "import re\n",
        "str1 = \"Learnbay : 1234567890\"\n",
        "\n",
        "reg=r'\\b[a-zA-z]+\\b'\n",
        "print(re.findall(reg,str1))\n",
        "\n"
      ],
      "execution_count": 6,
      "outputs": [
        {
          "output_type": "stream",
          "text": [
            "['Learnbay']\n"
          ],
          "name": "stdout"
        }
      ]
    },
    {
      "cell_type": "code",
      "metadata": {
        "id": "drArGXgKyQNz",
        "colab_type": "code",
        "colab": {
          "base_uri": "https://localhost:8080/",
          "height": 35
        },
        "outputId": "a00a7fa1-2385-40a0-8288-ed38d8866c2b"
      },
      "source": [
        "##Write the regular expression and use proper method which Retrieves name starting with 'an' or 'ak'.\n",
        "#Output:- ['anil', 'akhil', 'anant', 'ankur']\n",
        "import re\n",
        "str1 = 'anil akhil anant abhi arun arati arundhati abhijit ankur'\n",
        "reg=r'a[nk]\\w*'\n",
        "print(re.findall(reg,str1))\n",
        "\n"
      ],
      "execution_count": 3,
      "outputs": [
        {
          "output_type": "stream",
          "text": [
            "['anil', 'akhil', 'anant', 'ankur']\n"
          ],
          "name": "stdout"
        }
      ]
    }
  ]
}