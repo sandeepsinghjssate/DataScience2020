{
  "nbformat": 4,
  "nbformat_minor": 0,
  "metadata": {
    "colab": {
      "name": "Function_Assignment.ipynb",
      "provenance": [],
      "collapsed_sections": []
    },
    "kernelspec": {
      "name": "python3",
      "display_name": "Python 3"
    }
  },
  "cells": [
    {
      "cell_type": "code",
      "metadata": {
        "id": "1YVTYu-CuCOO",
        "colab_type": "code",
        "colab": {
          "base_uri": "https://localhost:8080/",
          "height": 88
        },
        "outputId": "77fa087b-41db-408d-cd9f-aeb037013bd5"
      },
      "source": [
        "# Define a function calls addNumber(x, y) that takes in two number and returns the sum of the two numbers.\n",
        "\n",
        "Num1 = int(input(\"Enter number 1 :\"))\n",
        "Num2 = int(input(\"Enter number 2 :\"))\n",
        "\n",
        "def addNumbers(Num1, Num2):\n",
        "  return Num1+Num2\n",
        "\n",
        "print(f'Sum of {Num1} and {Num2} is {addNumbers(Num1,Num2)}')\n",
        "print('Sum of {} and {} is {}'.format(Num1, Num2, addNumbers(Num1, Num2)))\n"
      ],
      "execution_count": 5,
      "outputs": [
        {
          "output_type": "stream",
          "text": [
            "Enter number 1 :10\n",
            "Enter number 2 :20\n",
            "Sum of 10 and 20 is 30\n",
            "Sum of 10 and 20 is 30\n"
          ],
          "name": "stdout"
        }
      ]
    },
    {
      "cell_type": "code",
      "metadata": {
        "id": "1-gIq-Rju2i2",
        "colab_type": "code",
        "colab": {
          "base_uri": "https://localhost:8080/",
          "height": 70
        },
        "outputId": "6e806cc8-279b-4a9d-c8be-42566cb505e2"
      },
      "source": [
        "# Define a function calls subtractNumber(x, y) that takes in two numbers and returns the difference of the two numbers.\n",
        "\n",
        "Num1 = int(input(\"Enter first Number :\"))\n",
        "Num2 = int(input(\"Enter second Number :\"))\n",
        "\n",
        "def subtract(Num1,Num2):\n",
        "  return Num1-Num2\n",
        "\n",
        "print(subtract(Num1,Num2))\n"
      ],
      "execution_count": 6,
      "outputs": [
        {
          "output_type": "stream",
          "text": [
            "Enter first Number :20\n",
            "Enter second Number :10\n",
            "10\n"
          ],
          "name": "stdout"
        }
      ]
    },
    {
      "cell_type": "code",
      "metadata": {
        "id": "kiAE0iLbviG9",
        "colab_type": "code",
        "colab": {
          "base_uri": "https://localhost:8080/",
          "height": 70
        },
        "outputId": "d94784b4-3d0c-485d-9bdf-ae9790536324"
      },
      "source": [
        "# Write a function getBiggerNumber(x, y) that takes in two numbers as arguments and returns the bigger number.\n",
        "Num1 = int(input(\"Enter first Number :\"))\n",
        "Num2 = int(input(\"Enter second Number :\"))\n",
        "\n",
        "def getBiggerNumber(Num1,Num2):\n",
        "  return (Num1 if Num1>Num2 else Num2)\n",
        "\n",
        "print(getBiggerNumber(Num1,Num2))\n",
        "\n",
        "\n"
      ],
      "execution_count": 9,
      "outputs": [
        {
          "output_type": "stream",
          "text": [
            "Enter first Number :10\n",
            "Enter second Number :30\n",
            "30\n"
          ],
          "name": "stdout"
        }
      ]
    },
    {
      "cell_type": "code",
      "metadata": {
        "id": "10B5oVcZh16d",
        "colab_type": "code",
        "colab": {
          "base_uri": "https://localhost:8080/",
          "height": 159
        },
        "outputId": "13e0ec56-6f19-4791-ca34-c930bbe412ba"
      },
      "source": [
        "# Python provides many built-in modules with many useful functions. \n",
        "# One such module is the math module. The math module provides many useful functions such as sqrt(x), pow(x, y), ceil(x), floor(x) etc. \n",
        "# You will need to do a \"import math\" before you are allowed to use the functions within the math module.\n",
        "import math\n",
        "\n",
        "Num1 = int(input(\"Enter Number :\"))\n",
        "\n",
        "print(math.sqrt(Num1))\n",
        "\n",
        "# Calculate the square root of 16 and stores it in the variable a\n",
        "\n",
        "Num2 = int(input(\"Enter Number :\"))\n",
        "Num3 = int(input(\"Enter Power :\"))\n",
        "\n",
        "print(math.pow(Num2,Num3 ))\n",
        "\n",
        "# Calculate 3 to the power of 5 and stores it in the variable b\n",
        "\n",
        "Num4 = float(input(\"Enter Number :\"))\n",
        "print(math.ceil(Num4))\n",
        "\n",
        "# Calculate area of circle with radius = 3.0 by making use of the math.pi constant and store it in the variable c\n",
        "\n",
        "print(\"Area of Circle : \" + str(math.pi*3*3))\n"
      ],
      "execution_count": 14,
      "outputs": [
        {
          "output_type": "stream",
          "text": [
            "Enter Number :16\n",
            "4.0\n",
            "Enter Number :3\n",
            "Enter Power :5\n",
            "243.0\n",
            "Enter Number :12.67854345\n",
            "13\n",
            "Area of Circle : 28.274333882308138\n"
          ],
          "name": "stdout"
        }
      ]
    },
    {
      "cell_type": "code",
      "metadata": {
        "id": "Yado0B99h2E_",
        "colab_type": "code",
        "colab": {
          "base_uri": "https://localhost:8080/",
          "height": 52
        },
        "outputId": "555875ec-0560-419e-ff5c-5811232dd609"
      },
      "source": [
        "# Write a function to convert temperature from Celsius to Fahrenheit scale.\n",
        "# oC to oF Conversion: Multipy by 9, then divide by 5, then add 32.\n",
        "\n",
        "def Cel2Fah (degreeCel):\n",
        "  return degreeCel*5/9 + 32\n",
        "\n",
        "print('%.2f'% Cel2Fah(28.0))\n",
        "print('%.2f'% Cel2Fah(0))\n",
        "\n",
        "# Note: Return a string of 2 decimal places.\n",
        "# In - Cel2Fah(28.0)\n",
        "# Out - '82.40'\n",
        "# In - Cel2Fah(0.00)\n",
        "# Out - '32.00'"
      ],
      "execution_count": 17,
      "outputs": [
        {
          "output_type": "stream",
          "text": [
            "47.56\n",
            "32.00\n"
          ],
          "name": "stdout"
        }
      ]
    },
    {
      "cell_type": "code",
      "metadata": {
        "id": "n7lsFol9h2ID",
        "colab_type": "code",
        "colab": {
          "base_uri": "https://localhost:8080/",
          "height": 52
        },
        "outputId": "fd502438-bbc6-4111-ab2e-ba65ff77de07"
      },
      "source": [
        "# Write a function to compute the BMI of a person.\n",
        "#     BMI = weight(kg)  /  ( height(m)*height(m) )\n",
        "\n",
        "# Note: Return a string of 1 decimal place.\n",
        "# In - BMI(63, 1.7)\n",
        "# Out - '21.8'\n",
        "# In - BMI(110, 2)\n",
        "# Out - '27.5'\n",
        "\n",
        "def BMI (weight, height):\n",
        "  return weight/(height*height)\n",
        "\n",
        "print('%.1f'% BMI(63, 1.7))\n",
        "print('%.1f'% BMI(110, 2))\n",
        "\n"
      ],
      "execution_count": 19,
      "outputs": [
        {
          "output_type": "stream",
          "text": [
            "21.8\n",
            "27.5\n"
          ],
          "name": "stdout"
        }
      ]
    },
    {
      "cell_type": "code",
      "metadata": {
        "id": "f2tV1AU8h2LN",
        "colab_type": "code",
        "colab": {
          "base_uri": "https://localhost:8080/",
          "height": 70
        },
        "outputId": "987520f8-214f-4992-ba7c-c9b2dc75daa4"
      },
      "source": [
        "# Write a function percent(value, total) that takes in two numbers as arguments, and returns the percentage value as an integer.\n",
        "# In - percent(46, 90)\n",
        "# Out - 51\n",
        "# In - percent(51, 51)\n",
        "# Out - 100\n",
        "# In - percent(63, 12)\n",
        "# Out - 525\n",
        "\n",
        "def percent(value, total):\n",
        "  return value*100/total\n",
        "\n",
        "print(int(percent(46, 90)))\n",
        "print(int(percent(51, 51)))\n",
        "print(int(percent(63, 12)))\n",
        "\n"
      ],
      "execution_count": 21,
      "outputs": [
        {
          "output_type": "stream",
          "text": [
            "51\n",
            "100\n",
            "525\n"
          ],
          "name": "stdout"
        }
      ]
    },
    {
      "cell_type": "code",
      "metadata": {
        "id": "QyoWR3dQh2OZ",
        "colab_type": "code",
        "colab": {
          "base_uri": "https://localhost:8080/",
          "height": 52
        },
        "outputId": "f52829b5-2a91-4cd1-97fd-45e5d4fb9dc3"
      },
      "source": [
        "# Write a function to compute the hypotenuse given sides a and b of the triangle.\n",
        "# Hint: You can use math.sqrt(x) to compute the square root of x.\n",
        "# In - hypotenuse(3, 4)\n",
        "# Out - 5\n",
        "# In - hypotenuse(5, 12)\n",
        "# Out - 13\n",
        "import math\n",
        "\n",
        "def hypotenuse(a,b):\n",
        "  return math.sqrt(pow(a,2)+pow(b,2))\n",
        "\n",
        "print(hypotenuse(3, 4))\n",
        "print(hypotenuse(5, 12))"
      ],
      "execution_count": 25,
      "outputs": [
        {
          "output_type": "stream",
          "text": [
            "5.0\n",
            "13.0\n"
          ],
          "name": "stdout"
        }
      ]
    },
    {
      "cell_type": "code",
      "metadata": {
        "id": "XthPUigkh2Ro",
        "colab_type": "code",
        "colab": {
          "base_uri": "https://localhost:8080/",
          "height": 52
        },
        "outputId": "7586fbd2-ebb9-4781-eb1c-3989ec297cb5"
      },
      "source": [
        "# Write a function getSumOfLastDigits() that takes in a list of positive numbers and returns the sum of all the last digits in the list.\n",
        "# getSumOfLastDigits([2, 3, 4])\n",
        "# 9\n",
        "# getSumOfLastDigits([1, 23, 456])\n",
        "# 10\n",
        "\n",
        "def getSumOfLastDigits(list):\n",
        "  sum = 0\n",
        "  for i in list:\n",
        "    sum = sum + i%10\n",
        "  return sum\n",
        "\n",
        "print(getSumOfLastDigits([2, 3, 4]))\n",
        "print(getSumOfLastDigits([1, 23, 456]))"
      ],
      "execution_count": 26,
      "outputs": [
        {
          "output_type": "stream",
          "text": [
            "9\n",
            "10\n"
          ],
          "name": "stdout"
        }
      ]
    },
    {
      "cell_type": "code",
      "metadata": {
        "id": "T-uIqm9Mh2Un",
        "colab_type": "code",
        "colab": {
          "base_uri": "https://localhost:8080/",
          "height": 52
        },
        "outputId": "75558268-3204-4d54-97fd-40e6ce73bba5"
      },
      "source": [
        "# Write a function that uses a default value.\n",
        "# In - introduce('Lim', 20)\n",
        "# Out - 'My name is Lim. I am 20 years old.'\n",
        "# In - introduce('Ahmad')\n",
        "# Out - 'My name is Ahmad. My age is secret.'\n",
        "\n",
        "def introduce(name, age = 'secret'):\n",
        "  if str(age).isnumeric() == True:\n",
        "    print(f'My name is {name}. I am {age} years old')\n",
        "  else:\n",
        "    print(f'My name is {name}. My age is secret')\n",
        "introduce('Lim', 20)\n",
        "introduce('Ahmad')\n",
        "\n"
      ],
      "execution_count": 29,
      "outputs": [
        {
          "output_type": "stream",
          "text": [
            "My name is Lim. I am 20 years old\n",
            "My name is Ahmad. My age is secret\n"
          ],
          "name": "stdout"
        }
      ]
    },
    {
      "cell_type": "code",
      "metadata": {
        "id": "h0pXo5vH6wA-",
        "colab_type": "code",
        "colab": {
          "base_uri": "https://localhost:8080/",
          "height": 70
        },
        "outputId": "a424e48b-d8d7-4b36-e8d6-68bc8380677a"
      },
      "source": [
        "# Write a function isEquilateral(x, y, z) that accepts the 3 sides of a triangle as arguments. \n",
        "# The program should return True if it is an equilateral triangle.\n",
        "\n",
        "# In - isEquilateral(2, 4, 3)\n",
        "# False - False\n",
        "# In - isEquilateral(3, 3, 3)\n",
        "# Out - True\n",
        "# In - isEquilateral(-3, -3, -3)\n",
        "# Out - False\n",
        "\n",
        "def isEquilateral(x,y,z):\n",
        "  if ( x>0 and y>0 and z>0 and x==y and x==z):\n",
        "    return True\n",
        "  else:\n",
        "    return False\n",
        "\n",
        "print(isEquilateral(2, 4, 3))\n",
        "print(isEquilateral(3, 3, 3))\n",
        "print(isEquilateral(-3, -3, -3))"
      ],
      "execution_count": 32,
      "outputs": [
        {
          "output_type": "stream",
          "text": [
            "False\n",
            "True\n",
            "False\n"
          ],
          "name": "stdout"
        }
      ]
    },
    {
      "cell_type": "code",
      "metadata": {
        "id": "3NvcKCkn6wFy",
        "colab_type": "code",
        "colab": {
          "base_uri": "https://localhost:8080/",
          "height": 70
        },
        "outputId": "a6b0b9fa-e007-4397-f83d-6ff25380b145"
      },
      "source": [
        "# For a quadratic equation in the form of ax2+bx+c, the discriminant, D is b2-4ac. Write a function to compute the discriminant, D.\n",
        "# In - quadratic(1, 2, 3)\n",
        "# Out - 'The discriminant is -8.'\n",
        "# In - quadratic(1, 3, 2)\n",
        "# Out - 'The discriminant is 1.'\n",
        "# In - quadratic(1, 4, 4)\n",
        "# Out - 'The discriminant is 0.'\n",
        "\n",
        "def quadratic(a,b,c):\n",
        "  return pow(b,2)-4*a*c\n",
        "\n",
        "print(quadratic(1, 2, 3))\n",
        "print(quadratic(1, 3, 2))\n",
        "print(quadratic(1, 4, 4))\n",
        "\n",
        "\n"
      ],
      "execution_count": 34,
      "outputs": [
        {
          "output_type": "stream",
          "text": [
            "-8\n",
            "1\n",
            "0\n"
          ],
          "name": "stdout"
        }
      ]
    },
    {
      "cell_type": "code",
      "metadata": {
        "id": "ihmuttBS6wJQ",
        "colab_type": "code",
        "colab": {
          "base_uri": "https://localhost:8080/",
          "height": 70
        },
        "outputId": "6a5820ae-79c0-4550-8750-cf48f0c0755f"
      },
      "source": [
        "# Define a function calls addFirstAndLast(x) that takes in a list of numbers and returns the sum of the first and last numbers.\n",
        "# In - addFirstAndLast([])\n",
        "# Out - 0\n",
        "# In - addFirstAndLast([2, 7, 3])\n",
        "# Out - 5\n",
        "# In - addFirstAndLast([10])\n",
        "# Out - 10\n",
        "\n",
        "def addFirstAndLast(list1):\n",
        "  if(len(list1)>1):\n",
        "    sum = 0\n",
        "    sum = list1[0]+list1[len(list1)-1]\n",
        "    return sum\n",
        "  elif(len(list1)==1):\n",
        "    return list1[0]\n",
        "  elif len(list1)==0:\n",
        "    return 0\n",
        "\n",
        "print(addFirstAndLast([]))\n",
        "print(addFirstAndLast([2, 7, 3]))\n",
        "print(addFirstAndLast([10]))"
      ],
      "execution_count": 38,
      "outputs": [
        {
          "output_type": "stream",
          "text": [
            "0\n",
            "5\n",
            "10\n"
          ],
          "name": "stdout"
        }
      ]
    },
    {
      "cell_type": "code",
      "metadata": {
        "id": "lEt9HNPI6wM0",
        "colab_type": "code",
        "colab": {
          "base_uri": "https://localhost:8080/",
          "height": 52
        },
        "outputId": "2e34d5c2-61bb-4d83-f8b4-f15aa7c7e843"
      },
      "source": [
        "# Complete the 'lambda' expression so that it returns True if the argument is an even number, and False otherwise.\n",
        "\n",
        "a = lambda num1 : print(True) if num1%2 == 0 else print(False)\n",
        "\n",
        "a(2)\n",
        "a(3)\n"
      ],
      "execution_count": 42,
      "outputs": [
        {
          "output_type": "stream",
          "text": [
            "True\n",
            "False\n"
          ],
          "name": "stdout"
        }
      ]
    },
    {
      "cell_type": "code",
      "metadata": {
        "id": "JYWSZXPg6wQN",
        "colab_type": "code",
        "colab": {
          "base_uri": "https://localhost:8080/",
          "height": 35
        },
        "outputId": "d29a3fe2-f566-40d2-e367-0729e435d06b"
      },
      "source": [
        "# getScore.__doc__\n",
        "# 'A function that computes and returns the final score.'\n",
        "\n",
        "def getScore():\n",
        "  '''A function that computes and returns the final score.'''\n",
        "\n",
        "print(getScore.__doc__)\n",
        "\n"
      ],
      "execution_count": 43,
      "outputs": [
        {
          "output_type": "stream",
          "text": [
            "A function that computes and returns the final score.\n"
          ],
          "name": "stdout"
        }
      ]
    },
    {
      "cell_type": "code",
      "metadata": {
        "id": "zmi81hi76wTK",
        "colab_type": "code",
        "colab": {
          "base_uri": "https://localhost:8080/",
          "height": 70
        },
        "outputId": "ba0abcc1-51fe-4196-c59d-ae4ef0238542"
      },
      "source": [
        "# In Python, it is possible to pass a function as a argument to another function. \n",
        "# Write a function useFunction(func, num) that takes in a function and a number as arguments. \n",
        "# The useFunction should produce the output shown in the examples given below.\n",
        "\n",
        "# def addOne(x):\n",
        "#   return x + 1\n",
        "# useFunction(addOne, 4)\n",
        "# 25\n",
        "# useFunction(addOne, 9)\n",
        "# 100\n",
        "# useFunction(addOne, 0)\n",
        "# 1\n",
        "\n",
        "def addOne(x):\n",
        "  return x+1\n",
        "\n",
        "def useFunction(addOne,x):\n",
        "  return pow(addOne(x),2)\n",
        "\n",
        "print(useFunction(addOne, 4))\n",
        "print(useFunction(addOne, 9))\n",
        "print(useFunction(addOne, 0))\n",
        "\n",
        "\n"
      ],
      "execution_count": 45,
      "outputs": [
        {
          "output_type": "stream",
          "text": [
            "25\n",
            "100\n",
            "1\n"
          ],
          "name": "stdout"
        }
      ]
    },
    {
      "cell_type": "code",
      "metadata": {
        "id": "JJm1zFMX6wWK",
        "colab_type": "code",
        "colab": {}
      },
      "source": [
        ""
      ],
      "execution_count": null,
      "outputs": []
    },
    {
      "cell_type": "code",
      "metadata": {
        "id": "PBvBwg0O6waD",
        "colab_type": "code",
        "colab": {}
      },
      "source": [
        ""
      ],
      "execution_count": null,
      "outputs": []
    }
  ]
}