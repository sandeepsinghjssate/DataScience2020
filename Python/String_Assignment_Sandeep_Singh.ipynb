{
  "nbformat": 4,
  "nbformat_minor": 0,
  "metadata": {
    "colab": {
      "name": "String_Assignment.ipynb",
      "provenance": [],
      "collapsed_sections": []
    },
    "kernelspec": {
      "name": "python3",
      "display_name": "Python 3"
    }
  },
  "cells": [
    {
      "cell_type": "code",
      "metadata": {
        "id": "OG2JlAXx3VoJ",
        "colab_type": "code",
        "colab": {
          "base_uri": "https://localhost:8080/",
          "height": 35
        },
        "outputId": "c3bf2404-5721-4751-d20c-b81ae4c961de"
      },
      "source": [
        "#Declare a string and store it in a variable. \n",
        "StringVar = 'Sandeep Singh'\n",
        "\n",
        "\n",
        "#Check the type and print the id of the same.\n",
        "\n",
        "print(\"String is: \" + StringVar + \" Id is : \" + str(id(StringVar)) + \"Type is \" + str(type(StringVar)))\n",
        "\n"
      ],
      "execution_count": null,
      "outputs": [
        {
          "output_type": "stream",
          "text": [
            "String is: Sandeep Singh Id is : 140556039734128Type is <class 'str'>\n"
          ],
          "name": "stdout"
        }
      ]
    },
    {
      "cell_type": "code",
      "metadata": {
        "id": "wPxm3G8W3dqN",
        "colab_type": "code",
        "colab": {}
      },
      "source": [
        "#Which are valid/invalid strings\n",
        "1. 'This is Python class'\n",
        "valid/invalid==Valid\n",
        "\n",
        "2. \"This is Python class\"\n",
        "valid/invalid == Valid\n",
        "\n",
        "3. '''This is Python class'''\n",
        "valid/invalid==Valid\n",
        "\n",
        "4. \"\"\"This is Python class\"\"\"\n",
        "valid/invalid==Valid\n",
        "\n",
        "5. 'This is Python's class'\n",
        "valid/invalid==Invalid\n",
        "\n",
        "6. \"Learnbay provides \"Java\", \"Python\" classes\"\n",
        "valid/invalid==Invalid\n",
        "\n",
        "7. \"Learnbay provides 'Java', 'Python' classes\"\n",
        "valid/invalid == Valid\n",
        "\n",
        "8. \"This is Python's class\"\n",
        "valid/invalid\n",
        "\n",
        "9. \"\"\"Learnbay provides \"Java\", \"Python\" classes\"\"\"\n",
        "valid/invalid==Valid\n",
        "\n",
        "10. '''Learnbay provides \"Java\", \"Python\" classes'''\n",
        "valid/invalid   == Valid\n",
        "\n",
        "11. '''Learnbay provides\n",
        "\"Java\", \"Python\" \n",
        "classes'''\n",
        "valid/invalid == Valid\n",
        "\n",
        "12. 'This is\n",
        "Python \n",
        "class'\n",
        "valid/invalid == Inavlid\n"
      ],
      "execution_count": null,
      "outputs": []
    },
    {
      "cell_type": "code",
      "metadata": {
        "id": "Drx8fhT23g7a",
        "colab_type": "code",
        "colab": {
          "base_uri": "https://localhost:8080/",
          "height": 106
        },
        "outputId": "9a0f935f-3617-461b-ecf9-77a3eb758638"
      },
      "source": [
        "#Write the code to get the output mentioned below print statement\n",
        "my_str = \"Although that way may not be obvious at first unless you're Dutch.\"\n",
        "my_str1 = \"Although that way may not be obvious at first unless you're Dutch.\"\n",
        "\n",
        "print(len(my_str))\n",
        "#output:- The length of my_str is 66\n",
        "\n",
        "print(str(id(my_str)))\n",
        "print(str(id(my_str1)))\n",
        "print(\"id of my_str and my_str1 is same + str(id(my_str)==id(my_str1)) if id(my_str)==id(my_str) else \"id of my_str and my_str1 is same\" + str(id(my_str)==id(my_str1)))\n",
        "#output:- id of my_str and my_str1 is same? - True\n",
        "\n",
        "print(\"Type is \" + str(type(my_str)))\n",
        "#output:- Type of my_str is: str"
      ],
      "execution_count": null,
      "outputs": [
        {
          "output_type": "stream",
          "text": [
            "66\n",
            "140556039395848\n",
            "140556039449696\n",
            "id of my_str and my_str1 is False\n",
            "Type is <class 'str'>\n"
          ],
          "name": "stdout"
        }
      ]
    },
    {
      "cell_type": "code",
      "metadata": {
        "id": "403e-I3A3lCO",
        "colab_type": "code",
        "colab": {
          "base_uri": "https://localhost:8080/",
          "height": 124
        },
        "outputId": "a190cda5-add0-491b-88ef-e48e8c35f167"
      },
      "source": [
        "#Indexing\n",
        "my_str = \"Although 8 that way may not be obvious at first unless you're Dutch\"\n",
        "#Write the code to get the output,instructions are mentioned below print statement. use indexing\n",
        "\n",
        "print(\"The first character in my_str is: \" + my_str[0])\n",
        "#output:- The first character in my_str is: A\n",
        "#Note:- Use positive indexing\n",
        "\n",
        "print()\n",
        "#output:- The first character in my_str is: h\n",
        "#Note:- Use len() function.\n",
        "\n",
        "print(\"The character at index 10 in my_str is \" )\n",
        "#output:- The character at index 10 in my_str is: c\n",
        "#Note:- Use positive indexing\n",
        "\n",
        "print(\"The last character in my_str is: \" + my_str[-1])\n",
        "#output:- The last character in my_str is: h\n",
        "#Note:- Use negative indexing.\n",
        "\n",
        "print()\n",
        "#output:- The last character in my_str is: h\n",
        "#Note:- Use len() function.\n",
        "\n",
        "print(\"The character in my_str is \" + my_str[9] )\n",
        "#output:- The character in my_str is: 8\n",
        "#Note:- Use positive index"
      ],
      "execution_count": null,
      "outputs": [
        {
          "output_type": "stream",
          "text": [
            "The first character in my_str is: A\n",
            "\n",
            "The character at index 10 in my_str is \n",
            "The last character in my_str is: h\n",
            "\n",
            "The character in my_str is 8\n"
          ],
          "name": "stdout"
        }
      ]
    },
    {
      "cell_type": "code",
      "metadata": {
        "id": "NK_QdtsM3luu",
        "colab_type": "code",
        "colab": {
          "base_uri": "https://localhost:8080/",
          "height": 266
        },
        "outputId": "045e5ca9-7096-448e-b9bd-c99b192f59fb"
      },
      "source": [
        "\n",
        "#Slicing\n",
        "my_str = \"Although that way may not be obvious at first unless you're Dutch.\"\n",
        "#Write the code to get the output,instructions are mentioned below print statement. use slicing\n",
        "print()\n",
        "#output:- You have sliced: Although that way may not be obvious at first unless you're Dutch.Without begin, end and step\n",
        "\n",
        "\n",
        "print()\n",
        "#output:- You have sliced: Although that way may not be obvious at first unless you're Dutch.with begin as 0 end using len and without step\n",
        "\n",
        "\n",
        "print()\n",
        "#output:- You have sliced: Although that way may not be obvious at first unless you're Dutch.without begin and end but using step\n",
        "\n",
        "\n",
        "print()\n",
        "#output:- You have sliced: Although that way may not be obvious at first unless you're Dutch.With begin, end and step\n",
        "\n",
        "\n",
        "print()\n",
        "#output:- You have sliced:   .with using begin and end using postive values and step as negative values.\n",
        "#Slicing command should print empty string.\n",
        "\n",
        "\n",
        "print()\n",
        "#output:- You have sliced: Atog htwymyntb biu tfrtuls o'eDth\n",
        "\n",
        "\n",
        "print()\n",
        "#output:- You have sliced: Ahgttam tebo  r lsorDc\n",
        "\n",
        "\n",
        "print()\n",
        "#output:- You have sliced: .hctuD er'uoy sselnu tsrif ta suoivbo eb ton yam yaw taht hguohtlA. Use only step\n",
        "\n",
        "\n",
        "print()\n",
        "#output:- You have sliced: .hctuD er'uoy sselnu tsrif ta suoivbo eb ton yam yaw taht hguohtlA. Use begin end and step.\n",
        "\n",
        "\n",
        "print()\n",
        "#output:- You have sliced: .cu ruysen si asovoe o a a athuhl. use only step\n",
        "\n",
        "\n",
        "print()\n",
        "#output:- You have sliced: .cu ruysen si asovoe o a a athuhl. use begin, end and step.\n",
        "\n",
        "\n",
        "print(my_str[10:17:-1])\n",
        "#What will be the output?\n",
        "\n",
        "\n",
        "print()\n",
        "#output:- You have sliced: yaw ta, Using begin, end and step.\n",
        "\n",
        "print()\n",
        "#output:- You have sliced: ess you. Using begin, end and step.\n"
      ],
      "execution_count": null,
      "outputs": [
        {
          "output_type": "stream",
          "text": [
            "\n",
            "\n",
            "\n",
            "\n",
            "\n",
            "\n",
            "\n",
            "\n",
            "\n",
            "\n",
            "\n",
            "\n",
            "\n",
            "\n"
          ],
          "name": "stdout"
        }
      ]
    },
    {
      "cell_type": "code",
      "metadata": {
        "id": "qUSYa5x-3n5j",
        "colab_type": "code",
        "colab": {
          "base_uri": "https://localhost:8080/",
          "height": 256
        },
        "outputId": "687bc3d5-4a40-4372-b945-af6b7b399314"
      },
      "source": [
        "#Basic operation on string\n",
        "str1 = 'Learnbay'\n",
        "str2 = 'Python'\n",
        "\n",
        "#Write the code to get the output,instructions are mentioned below.\n",
        "#Output is: Learnbay Python\n",
        "print(str1 + \" \" + str2)\n",
        "str1+2\n",
        "#Error: TypeError: can only concatenate str (not \"int\") to str\n",
        "\n",
        "\n",
        "#Error: TypeError: can only concatenate str (not \"float\") to str\n",
        "\n",
        "\n",
        "\n",
        "#Find below Output\n",
        "#Output is: LearnbayLearnbayLearnbay\n",
        "print(str1*3)\n",
        "print(str1*str1*str1)\n",
        "print(str1*3.0)\n",
        "\n",
        "\n",
        "#Error: TypeError: can't multiply sequence by non-int of type 'float'\n",
        "\n",
        "\n",
        "#Error: TypeError: can't multiply sequence by non-int of type 'str'\n",
        "\n"
      ],
      "execution_count": 216,
      "outputs": [
        {
          "output_type": "stream",
          "text": [
            "Learnbay Python\n"
          ],
          "name": "stdout"
        },
        {
          "output_type": "error",
          "ename": "TypeError",
          "evalue": "ignored",
          "traceback": [
            "\u001b[0;31m---------------------------------------------------------------------------\u001b[0m",
            "\u001b[0;31mTypeError\u001b[0m                                 Traceback (most recent call last)",
            "\u001b[0;32m<ipython-input-216-2f05614b0e80>\u001b[0m in \u001b[0;36m<module>\u001b[0;34m()\u001b[0m\n\u001b[1;32m      6\u001b[0m \u001b[0;31m#Output is: Learnbay Python\u001b[0m\u001b[0;34m\u001b[0m\u001b[0;34m\u001b[0m\u001b[0;34m\u001b[0m\u001b[0m\n\u001b[1;32m      7\u001b[0m \u001b[0mprint\u001b[0m\u001b[0;34m(\u001b[0m\u001b[0mstr1\u001b[0m \u001b[0;34m+\u001b[0m \u001b[0;34m\" \"\u001b[0m \u001b[0;34m+\u001b[0m \u001b[0mstr2\u001b[0m\u001b[0;34m)\u001b[0m\u001b[0;34m\u001b[0m\u001b[0;34m\u001b[0m\u001b[0m\n\u001b[0;32m----> 8\u001b[0;31m \u001b[0mstr1\u001b[0m\u001b[0;34m+\u001b[0m\u001b[0;36m2\u001b[0m\u001b[0;34m\u001b[0m\u001b[0;34m\u001b[0m\u001b[0m\n\u001b[0m\u001b[1;32m      9\u001b[0m \u001b[0;31m#Error: TypeError: can only concatenate str (not \"int\") to str\u001b[0m\u001b[0;34m\u001b[0m\u001b[0;34m\u001b[0m\u001b[0;34m\u001b[0m\u001b[0m\n\u001b[1;32m     10\u001b[0m \u001b[0;34m\u001b[0m\u001b[0m\n",
            "\u001b[0;31mTypeError\u001b[0m: must be str, not int"
          ]
        }
      ]
    },
    {
      "cell_type": "code",
      "metadata": {
        "id": "gREffmnr3s-p",
        "colab_type": "code",
        "colab": {
          "base_uri": "https://localhost:8080/",
          "height": 124
        },
        "outputId": "120a1722-3399-411a-c9ed-7caa915ba30a"
      },
      "source": [
        "#Find below Output\n",
        "str1 = 'Python'\n",
        "str2 = 'Python'\n",
        "str3 = 'Python$'\n",
        "str4 = 'Python$'\n",
        "\n",
        "#print True by using identity operator between str1 and str2\n",
        "print(str1 is str2)\n",
        "\n",
        "#print False by using identity operator between str1 and str3\n",
        "print(str1 is str3)\n",
        "\n",
        "#print False by using identity operator between str4 and str3\n",
        "print(str3 is str4)\n",
        "\n",
        "#Check if P is available in str1 and print True by using membership operator\n",
        "print('P' in str1)\n",
        "\n",
        "#Check if $ is available in str3 and print True by using membership operator\n",
        "print('P' in str3)\n",
        "\n",
        "#Check if N is available in str3 and print False by using membership operator\n",
        "print('N' in str3)\n",
        "\n"
      ],
      "execution_count": null,
      "outputs": [
        {
          "output_type": "stream",
          "text": [
            "True\n",
            "False\n",
            "False\n",
            "True\n",
            "True\n",
            "False\n"
          ],
          "name": "stdout"
        }
      ]
    },
    {
      "cell_type": "code",
      "metadata": {
        "id": "QNFjxDr73u2H",
        "colab_type": "code",
        "colab": {
          "base_uri": "https://localhost:8080/",
          "height": 238
        },
        "outputId": "41aa5612-bfa3-44b5-8ce2-c9682775bc0d"
      },
      "source": [
        "#Complete the below code\n",
        "str1 = 'This is Python class'\n",
        "#write the code to replace 'Python' with 'Java' and you should get below error.\n",
        "#TypeError: 'str' object does not support item assignment.\n",
        "str2='Java'\n",
        "j=0\n",
        "for i in range(str1.find('Python'),str1.find('Python')+6,1):\n",
        "  if(i==str1.find('Python')+6):\n",
        "    break\n",
        "  if(j==len(str2)):\n",
        "    str1[i]=''\n",
        "  else:\n",
        "    str1[i]=str2[j]\n",
        "    j=j+1\n",
        "\n",
        "\n"
      ],
      "execution_count": 152,
      "outputs": [
        {
          "output_type": "error",
          "ename": "TypeError",
          "evalue": "ignored",
          "traceback": [
            "\u001b[0;31m---------------------------------------------------------------------------\u001b[0m",
            "\u001b[0;31mTypeError\u001b[0m                                 Traceback (most recent call last)",
            "\u001b[0;32m<ipython-input-152-e3928c1a1845>\u001b[0m in \u001b[0;36m<module>\u001b[0;34m()\u001b[0m\n\u001b[1;32m     11\u001b[0m     \u001b[0mstr1\u001b[0m\u001b[0;34m[\u001b[0m\u001b[0mi\u001b[0m\u001b[0;34m]\u001b[0m\u001b[0;34m=\u001b[0m\u001b[0;34m''\u001b[0m\u001b[0;34m\u001b[0m\u001b[0;34m\u001b[0m\u001b[0m\n\u001b[1;32m     12\u001b[0m   \u001b[0;32melse\u001b[0m\u001b[0;34m:\u001b[0m\u001b[0;34m\u001b[0m\u001b[0;34m\u001b[0m\u001b[0m\n\u001b[0;32m---> 13\u001b[0;31m     \u001b[0mstr1\u001b[0m\u001b[0;34m[\u001b[0m\u001b[0mi\u001b[0m\u001b[0;34m]\u001b[0m\u001b[0;34m=\u001b[0m\u001b[0mstr2\u001b[0m\u001b[0;34m[\u001b[0m\u001b[0mj\u001b[0m\u001b[0;34m]\u001b[0m\u001b[0;34m\u001b[0m\u001b[0;34m\u001b[0m\u001b[0m\n\u001b[0m\u001b[1;32m     14\u001b[0m     \u001b[0mj\u001b[0m\u001b[0;34m=\u001b[0m\u001b[0mj\u001b[0m\u001b[0;34m+\u001b[0m\u001b[0;36m1\u001b[0m\u001b[0;34m\u001b[0m\u001b[0;34m\u001b[0m\u001b[0m\n\u001b[1;32m     15\u001b[0m \u001b[0;34m\u001b[0m\u001b[0m\n",
            "\u001b[0;31mTypeError\u001b[0m: 'str' object does not support item assignment"
          ]
        }
      ]
    },
    {
      "cell_type": "code",
      "metadata": {
        "id": "-JgFbPmn3w3D",
        "colab_type": "code",
        "colab": {
          "base_uri": "https://localhost:8080/",
          "height": 88
        },
        "outputId": "d1ec3057-c14b-4981-8906-a2ddeae65cf1"
      },
      "source": [
        "str1 = 'A'\n",
        "str2 = 'A'\n",
        "#Compare str1 and str2 and print True using comparison operator\n",
        "print(str1==str2)\n",
        "\n",
        "#Compare str1 and str2 and print True using equality operator\n",
        "print(str1 is str2)\n",
        "\n",
        "#Compare str1 and str2 and print False using equality operator\n",
        "print(str1!=str2)\n",
        "\n",
        "#Compare str1 and str2 and print False using comparison operator\n",
        "print(str1 is not str2)\n",
        "\n"
      ],
      "execution_count": 149,
      "outputs": [
        {
          "output_type": "stream",
          "text": [
            "True\n",
            "True\n",
            "False\n",
            "False\n"
          ],
          "name": "stdout"
        }
      ]
    },
    {
      "cell_type": "code",
      "metadata": {
        "id": "fJ46_L-53yhW",
        "colab_type": "code",
        "colab": {
          "base_uri": "https://localhost:8080/",
          "height": 88
        },
        "outputId": "5d8a3d5e-c66d-43a2-d488-1cef84cc81e3"
      },
      "source": [
        "str1 = 'A'\n",
        "str2 = 'a'\n",
        "#Compare str1 and str2 and print True using comparison operator\n",
        "print(str1==str2)\n",
        "\n",
        "#Compare str1 and str2 and print True using equality operator\n",
        "print(str1 is str2)\n",
        "\n",
        "#Compare str1 and str2 and print False using equality operator\n",
        "print(str1!=str2)\n",
        "\n",
        "#Compare str1 and str2 and print False using comparison operator\n",
        "print(str1 is not str2)\n",
        "\n"
      ],
      "execution_count": 148,
      "outputs": [
        {
          "output_type": "stream",
          "text": [
            "False\n",
            "False\n",
            "True\n",
            "True\n"
          ],
          "name": "stdout"
        }
      ]
    },
    {
      "cell_type": "code",
      "metadata": {
        "id": "e-Lr9va330gi",
        "colab_type": "code",
        "colab": {
          "base_uri": "https://localhost:8080/",
          "height": 52
        },
        "outputId": "32b85a9d-8d65-46db-da0b-e9345dff7e88"
      },
      "source": [
        "str1 = 'A'\n",
        "str2 = '65'\n",
        "#Compare str1 and str2 using comparison operator and it should give below error.\n",
        "#Error: TypeError: '>=' not supported between instances of 'str' and 'int'\n",
        "#################################################################################\n",
        "##print(str1>=int(str2))\n",
        "\n",
        "#Compare str1 and str2 and print True using equality operator\n",
        "print(str1==chr(int(str2)))\n",
        "\n",
        "#Compare str1 and str2 and print False using equality operator\n",
        "print(str1==str2)\n"
      ],
      "execution_count": 72,
      "outputs": [
        {
          "output_type": "stream",
          "text": [
            "True\n",
            "False\n"
          ],
          "name": "stdout"
        }
      ]
    },
    {
      "cell_type": "code",
      "metadata": {
        "id": "JO04jmpN32Im",
        "colab_type": "code",
        "colab": {
          "base_uri": "https://localhost:8080/",
          "height": 88
        },
        "outputId": "825c734f-5885-4799-e060-034830d58032"
      },
      "source": [
        "str1 = 'Python'\n",
        "str2 = 'Python'\n",
        "#Compare str1 and str2 and print True using comparison operator\n",
        "print(str1==str2)\n",
        "\n",
        "#Compare str1 and str2 and print True using equality operator\n",
        "print(str1 is str2)\n",
        "\n",
        "#Compare str1 and str2 and print False using equality operator\n",
        "print(str1!=str2)\n",
        "\n",
        "#Compare str1 and str2 and print False using comparison operator\n",
        "print(str1 is not str2)\n"
      ],
      "execution_count": 79,
      "outputs": [
        {
          "output_type": "stream",
          "text": [
            "True\n",
            "True\n",
            "False\n",
            "False\n"
          ],
          "name": "stdout"
        }
      ]
    },
    {
      "cell_type": "code",
      "metadata": {
        "id": "nmVAYYC_35ip",
        "colab_type": "code",
        "colab": {
          "base_uri": "https://localhost:8080/",
          "height": 88
        },
        "outputId": "0fdc743a-5d91-450b-ea43-85a8da5ea737"
      },
      "source": [
        "str1 = 'Python'\n",
        "str2 = 'python'\n",
        "#Compare str1 and str2 and print True using comparison operator\n",
        "print(str1==str2)\n",
        "\n",
        "#Compare str1 and str2 and print True using equality operator\n",
        "print(str1 is str2)\n",
        "\n",
        "#Compare str1 and str2 and print False using equality operator\n",
        "print(str1!=str2)\n",
        "\n",
        "#Compare str1 and str2 and print False using comparison operator\n",
        "print(str1 is not str2)\n",
        "\n"
      ],
      "execution_count": 80,
      "outputs": [
        {
          "output_type": "stream",
          "text": [
            "False\n",
            "False\n",
            "True\n",
            "True\n"
          ],
          "name": "stdout"
        }
      ]
    },
    {
      "cell_type": "code",
      "metadata": {
        "id": "7ulv5ith37OJ",
        "colab_type": "code",
        "colab": {
          "base_uri": "https://localhost:8080/",
          "height": 70
        },
        "outputId": "4f98083b-4ad7-4f6e-bfd7-a3225df5429a"
      },
      "source": [
        "a = 'Python'\n",
        "b = ''\n",
        "\n",
        "#Apply logical opereators (and, or & not) on above string values and observe the output.\n",
        "print( a and b)\n",
        "print( a or b)\n",
        "print( not b)"
      ],
      "execution_count": null,
      "outputs": [
        {
          "output_type": "stream",
          "text": [
            "\n",
            "Python\n",
            "True\n"
          ],
          "name": "stdout"
        }
      ]
    },
    {
      "cell_type": "code",
      "metadata": {
        "id": "Yg_gsZBL383n",
        "colab_type": "code",
        "colab": {
          "base_uri": "https://localhost:8080/",
          "height": 70
        },
        "outputId": "b8520ccd-f132-4081-cb9e-242b9c85b069"
      },
      "source": [
        "a = ''\n",
        "b = ''\n",
        "\n",
        "#Apply logical opereators (and, or & not) on above string values and observe the output.\n",
        "print( a and b)\n",
        "print( a or b)\n",
        "print( not b)"
      ],
      "execution_count": null,
      "outputs": [
        {
          "output_type": "stream",
          "text": [
            "\n",
            "\n",
            "True\n"
          ],
          "name": "stdout"
        }
      ]
    },
    {
      "cell_type": "code",
      "metadata": {
        "id": "cIWkP9Hf3-q5",
        "colab_type": "code",
        "colab": {
          "base_uri": "https://localhost:8080/",
          "height": 70
        },
        "outputId": "8b29a05c-f4fb-4748-c42a-4f870cea412f"
      },
      "source": [
        "a = 'Python'\n",
        "b = 'learnbay'\n",
        "\n",
        "#Apply logical opereators (and, or & not) on above string values and observe the output.\n",
        "print( a and b)\n",
        "print( a or b)\n",
        "print( not b)"
      ],
      "execution_count": null,
      "outputs": [
        {
          "output_type": "stream",
          "text": [
            "learnbay\n",
            "Python\n",
            "False\n"
          ],
          "name": "stdout"
        }
      ]
    },
    {
      "cell_type": "code",
      "metadata": {
        "id": "Y0Ot_E704AX5",
        "colab_type": "code",
        "colab": {
          "base_uri": "https://localhost:8080/",
          "height": 70
        },
        "outputId": "8b803631-3069-4cfd-9dd3-8f58bbb46cb4"
      },
      "source": [
        "my_str = \"Although 8 that way may not be obvious at first unless you're Dutch\"\n",
        "\n",
        "#Write the code to get the total count of 't' in above string. Use find() and index() method.\n",
        "i = 0\n",
        "j=0\n",
        "countIndex=0\n",
        "countFind=0\n",
        "while (i<len(my_str) and i!=-1):\n",
        "  i=my_str.find('t',j,len(my_str))\n",
        "  j=i+1\n",
        "  if(i!=-1):\n",
        "    countFind=countFind+1\n",
        "print(countFind)\n",
        "\n",
        "i = 0\n",
        "countIndex=0\n",
        "countFind=0\n",
        "while (i<len(my_str) and i!=my_str.rindex('t')):\n",
        "  i=my_str.index('t',i+1,len(my_str))\n",
        "  if(i<=my_str.rindex('t')):\n",
        "    countIndex=countIndex+1\n",
        "print(countIndex)\n",
        "\n",
        "\n",
        "#Write the code to get the index of '8' in my_str. Use find() and index() method.\n",
        "#print(my_str.index('8'))\n",
        "#print(my_str.find('8'))\n",
        "\n",
        "#What will be the output of below code?\n",
        "#print(my_str.find('the'))\n",
        "#-1\n",
        "\n",
        "#print(my_str.index('the'))\n",
        "#valueError\n",
        "\n",
        "#print(my_str.find('t', 9, 15))\n",
        "#11\n",
        "\n",
        "#print(my_str.rfind('u'))\n",
        "#63\n",
        "\n",
        "#print(my_str.rindex('u'))\n",
        "#63\n"
      ],
      "execution_count": 215,
      "outputs": [
        {
          "output_type": "stream",
          "text": [
            "7\n",
            "67\n",
            "7\n"
          ],
          "name": "stdout"
        }
      ]
    },
    {
      "cell_type": "code",
      "metadata": {
        "id": "Gommq59Q4CMi",
        "colab_type": "code",
        "colab": {
          "base_uri": "https://localhost:8080/",
          "height": 52
        },
        "outputId": "0c0b6f5d-b260-4124-a238-740f60d54eaf"
      },
      "source": [
        "#W A P which applies strip() method if any string, which will be taken from user, starts and ends with space, or applies \n",
        "#rrstrip() method if that string only ends with space or applies lstrip() method if that string only starts with a space.\n",
        "\n",
        "#For example:-\n",
        "#input:- '    Python   '\n",
        "#output:- 'Python'\n",
        "\n",
        "#input:- '    Python'\n",
        "#output:- 'Python'\n",
        "\n",
        "#input:- 'Python   '\n",
        "#output:- 'Python'\n",
        "\n",
        "InpurString=input(\"Enter a String: \")\n",
        "if(InpurString.rfind(' ',0)==len(InpurString)-1 and (InpurString.index(' ')==0)):\n",
        "  print(\"Both strip \" +InpurString.strip())\n",
        "elif(InpurString.rfind(' ',0)==len(InpurString)-1):\n",
        "  print(\"Only Rstrip \" + InpurString.rstrip())\n",
        "elif(InpurString.find(' ',0)>=0):\n",
        "  print(\"Only lstrip \" + InpurString.lstrip())\n"
      ],
      "execution_count": 127,
      "outputs": [
        {
          "output_type": "stream",
          "text": [
            "Enter a String:       Python      \n",
            "Both strip Python\n"
          ],
          "name": "stdout"
        }
      ]
    },
    {
      "cell_type": "code",
      "metadata": {
        "id": "9IUy-cpS4Dtt",
        "colab_type": "code",
        "colab": {
          "base_uri": "https://localhost:8080/",
          "height": 70
        },
        "outputId": "b5d596d1-22d8-4d31-f475-06e40c98292b"
      },
      "source": [
        "my_str = \"Although 8 that way may not be obvious at first unless you're Dutch\"\n",
        "\n",
        "#Write the code to convert all alphabets in my_str into upper case.\n",
        "print(my_str.upper())\n",
        "\n",
        "#Write the code to convert all alphabets in my_str into lower case.\n",
        "print(my_str.lower())\n",
        "\n",
        "#Write the code to swap the cases of all alphabets in my_str.(lower to upper and upper to lower)\n",
        "print(my_str.swapcase())\n",
        "\n"
      ],
      "execution_count": null,
      "outputs": [
        {
          "output_type": "stream",
          "text": [
            "ALTHOUGH 8 THAT WAY MAY NOT BE OBVIOUS AT FIRST UNLESS YOU'RE DUTCH\n",
            "although 8 that way may not be obvious at first unless you're dutch\n",
            "aLTHOUGH 8 THAT WAY MAY NOT BE OBVIOUS AT FIRST UNLESS YOU'RE dUTCH\n"
          ],
          "name": "stdout"
        }
      ]
    },
    {
      "cell_type": "code",
      "metadata": {
        "id": "-BjS-z674HKW",
        "colab_type": "code",
        "colab": {
          "base_uri": "https://localhost:8080/",
          "height": 52
        },
        "outputId": "f4d2570e-7cfd-4c0b-af49-44041b84b835"
      },
      "source": [
        "#Write the code which takes one string from user and if it starts with small case letter then convert it to corresponding \n",
        "#capital letter otherwise if starts with capital letters then convert first character of every word in that string into capital.\n",
        "InpurString=input(\"Enter a String: \")\n",
        "if str(InpurString[0]).islower():\n",
        "  print(InpurString.replace(InpurString[0],str(InpurString[0]).upper()))\n",
        "elif str(InpurString[0]).isupper():\n",
        "  print(InpurString.upper())"
      ],
      "execution_count": 137,
      "outputs": [
        {
          "output_type": "stream",
          "text": [
            "Enter a String: Sandeep Singh\n",
            "SANDEEP SINGH\n"
          ],
          "name": "stdout"
        }
      ]
    },
    {
      "cell_type": "code",
      "metadata": {
        "id": "-MCuDy5J4JQS",
        "colab_type": "code",
        "colab": {
          "base_uri": "https://localhost:8080/",
          "height": 195
        },
        "outputId": "3b518611-6866-402e-8f81-f1868d5db36f"
      },
      "source": [
        "#Take a string from user and check if it is:-\n",
        "#     1. alphanumeric\n",
        "#     2. alphabets\n",
        "#     3. digit\n",
        "#     4. all letters are in lower case\n",
        "#     5. all letters are in upper case\n",
        "#     6. in title case\n",
        "#     7. a space character\n",
        "#     8. numeric\n",
        "#     9. all number elements in string are decimal\n",
        "InpurString=input(\"Enter String To Be Checked:\")\n",
        "\n",
        "print(\"alphanumeric \" + str(InpurString.isalnum()))\n",
        "print(\"alphabets \" + str(InpurString.isalpha()))\n",
        "print(\"digit \" + str(InpurString.isdigit()))\n",
        "print(\"all letters are in lower case \" + str(InpurString.islower()))\n",
        "print(\"all letters are in upper case \" + str(InpurString.isupper()))\n",
        "print(\"in title case \" + str(InpurString.istitle()))\n",
        "print(\"a space character \" + str(InpurString.isspace()))\n",
        "print(\"all number elements in string are decimal \" + str(InpurString.isdecimal()))\n",
        "print(\"numeric \" + str(InpurString.isnumeric()))\n",
        "\n",
        "\n"
      ],
      "execution_count": 214,
      "outputs": [
        {
          "output_type": "stream",
          "text": [
            "Enter String To Be Checked:1\n",
            "alphanumeric True\n",
            "alphabets False\n",
            "digit True\n",
            "all letters are in lower case False\n",
            "all letters are in upper case False\n",
            "in title case False\n",
            "a space character False\n",
            "all number elements in string are decimal True\n",
            "numeric True\n"
          ],
          "name": "stdout"
        }
      ]
    },
    {
      "cell_type": "code",
      "metadata": {
        "id": "tiTN-4ik4KAG",
        "colab_type": "code",
        "colab": {
          "base_uri": "https://localhost:8080/",
          "height": 52
        },
        "outputId": "8693ddad-f503-4cfb-a99a-27fbe47ae153"
      },
      "source": [
        "#W A P which takes a string as an input and prints True if the string is valid identifier else returns False.\n",
        "#Sample Input:- 'abc', 'abc1', 'ab1c', '1abc', 'abc$', '_abc', 'if'\n",
        "InputString=input(\"Enter String To Be Checked:\")\n",
        "print(InputString.isidentifier())\n",
        "\n"
      ],
      "execution_count": 139,
      "outputs": [
        {
          "output_type": "stream",
          "text": [
            "Enter String To Be Checked:_abc\n",
            "True\n"
          ],
          "name": "stdout"
        }
      ]
    },
    {
      "cell_type": "code",
      "metadata": {
        "id": "tAMkSIN84MPe",
        "colab_type": "code",
        "colab": {
          "base_uri": "https://localhost:8080/",
          "height": 88
        },
        "outputId": "3989e9f5-2570-4059-ccec-a9d140b63d63"
      },
      "source": [
        "#What will be output of below code?\n",
        "s = chr(65) + chr(97)\n",
        "print(s.isprintable())\n",
        "\n",
        "s = chr(27) + chr(97)\n",
        "print(s.isprintable())\n",
        "\n",
        "s = '\\n'\n",
        "print(s.isprintable())\n",
        "\n",
        "s = ''\n",
        "print(s.isprintable())"
      ],
      "execution_count": 207,
      "outputs": [
        {
          "output_type": "stream",
          "text": [
            "True\n",
            "False\n",
            "False\n",
            "True\n"
          ],
          "name": "stdout"
        }
      ]
    },
    {
      "cell_type": "code",
      "metadata": {
        "id": "pU9Os0mD4Pk1",
        "colab_type": "code",
        "colab": {
          "base_uri": "https://localhost:8080/",
          "height": 238
        },
        "outputId": "f54dc225-3f95-48e7-c930-b8916d84b984"
      },
      "source": [
        "#What will be output of below code?\n",
        "#my_string = '  '\n",
        "#print(my_string.isascii())\n",
        "#'str' object has no attribute 'isascii'\n",
        "\n",
        "#my_string = 'Studytonight'\n",
        "#print(my_string.isascii())\n",
        "#'str' object has no attribute 'isascii'\n",
        "\n",
        "#my_string = 'Study tonight'\n",
        "#print(my_string.isascii())\n",
        "#'str' object has no attribute 'isascii'\n",
        "\n",
        "#my_string = 'Studytonight@123'\n",
        "#print(my_string.isascii())\n",
        "#'str' object has no attribute 'isascii'\n",
        "\n",
        "my_string = '°'\n",
        "print(my_string.isascii())\n",
        "\n",
        "\n",
        "my_string = 'ö'\n",
        "print(my_string.isascii())"
      ],
      "execution_count": 144,
      "outputs": [
        {
          "output_type": "error",
          "ename": "AttributeError",
          "evalue": "ignored",
          "traceback": [
            "\u001b[0;31m---------------------------------------------------------------------------\u001b[0m",
            "\u001b[0;31mAttributeError\u001b[0m                            Traceback (most recent call last)",
            "\u001b[0;32m<ipython-input-144-460758de76ba>\u001b[0m in \u001b[0;36m<module>\u001b[0;34m()\u001b[0m\n\u001b[1;32m     17\u001b[0m \u001b[0;34m\u001b[0m\u001b[0m\n\u001b[1;32m     18\u001b[0m \u001b[0mmy_string\u001b[0m \u001b[0;34m=\u001b[0m \u001b[0;34m'°'\u001b[0m\u001b[0;34m\u001b[0m\u001b[0;34m\u001b[0m\u001b[0m\n\u001b[0;32m---> 19\u001b[0;31m \u001b[0mprint\u001b[0m\u001b[0;34m(\u001b[0m\u001b[0mmy_string\u001b[0m\u001b[0;34m.\u001b[0m\u001b[0misascii\u001b[0m\u001b[0;34m(\u001b[0m\u001b[0;34m)\u001b[0m\u001b[0;34m)\u001b[0m\u001b[0;34m\u001b[0m\u001b[0;34m\u001b[0m\u001b[0m\n\u001b[0m\u001b[1;32m     20\u001b[0m \u001b[0;34m\u001b[0m\u001b[0m\n\u001b[1;32m     21\u001b[0m \u001b[0mmy_string\u001b[0m \u001b[0;34m=\u001b[0m \u001b[0;34m'ö'\u001b[0m\u001b[0;34m\u001b[0m\u001b[0;34m\u001b[0m\u001b[0m\n",
            "\u001b[0;31mAttributeError\u001b[0m: 'str' object has no attribute 'isascii'"
          ]
        }
      ]
    },
    {
      "cell_type": "code",
      "metadata": {
        "id": "VsLV8FF74QTB",
        "colab_type": "code",
        "colab": {
          "base_uri": "https://localhost:8080/",
          "height": 35
        },
        "outputId": "204e1c8d-2bb1-4ac4-d84a-6e7ef829b5e4"
      },
      "source": [
        "#What will be the output of below code?\n",
        "firstString = \"der Fluß\"\n",
        "secondString = \"der Fluss\"\n",
        "\n",
        "if firstString.casefold() == secondString.casefold():\n",
        "    print('The strings are equal.')\n",
        "else:\n",
        "    print('The strings are not equal.')"
      ],
      "execution_count": 206,
      "outputs": [
        {
          "output_type": "stream",
          "text": [
            "The strings are equal.\n"
          ],
          "name": "stdout"
        }
      ]
    },
    {
      "cell_type": "code",
      "metadata": {
        "id": "1m0U7jLa4Wjf",
        "colab_type": "code",
        "colab": {
          "base_uri": "https://localhost:8080/",
          "height": 159
        },
        "outputId": "8b50359e-6496-40ef-be5f-77d38fb35a6e"
      },
      "source": [
        "#Write the code to get below output\n",
        "#O/P 1:- python** (using ljust method)\n",
        "InputString = input(\"Enter String: \")\n",
        "print(InputString.ljust(8,'*'))\n",
        "\n",
        "#Write the code to get below output\n",
        "#O/P 1:- **python (using rjust method)\n",
        "InputString = input(\"Enter String: \")\n",
        "print(InputString.rjust(8,'*'))\n",
        "\n",
        "#Write the code to get below output\n",
        "#O/P 1:- **python** (using rjust method)\n",
        "InputString = input(\"Enter String: \")\n",
        "str1=InputString.rjust(8,\"*\")\n",
        "str2=\"\".rjust(2,\"*\")\n",
        "print(str1+str2)"
      ],
      "execution_count": 205,
      "outputs": [
        {
          "output_type": "stream",
          "text": [
            "Enter String: Python\n",
            "Python**\n",
            "Enter String: Python\n",
            "**Python\n",
            "Enter String: Python\n",
            "**Python\n",
            "**\n",
            "**Python**\n"
          ],
          "name": "stdout"
        }
      ]
    },
    {
      "cell_type": "code",
      "metadata": {
        "id": "cRVkvW6s4YKK",
        "colab_type": "code",
        "colab": {
          "base_uri": "https://localhost:8080/",
          "height": 35
        },
        "outputId": "222c7002-3a70-49d6-e942-a7440a2f6e80"
      },
      "source": [
        "#Write a Python program to find the length of the my_str:-\n",
        "\n",
        "#Input:- 'Write a Python program to find the length of the my_str'\n",
        "#Output:- 55\n",
        "my_str='Write a Python program to find the length of the my_str'\n",
        "j=0\n",
        "for i in my_str:\n",
        "  j=j+1\n",
        "print(str(j))\n"
      ],
      "execution_count": 201,
      "outputs": [
        {
          "output_type": "stream",
          "text": [
            "55\n"
          ],
          "name": "stdout"
        }
      ]
    },
    {
      "cell_type": "code",
      "metadata": {
        "id": "SjABWI284Zuz",
        "colab_type": "code",
        "colab": {
          "base_uri": "https://localhost:8080/",
          "height": 35
        },
        "outputId": "7be64186-fb5b-42a4-c0f4-9d9f67aedc9e"
      },
      "source": [
        "#Write a Python program to find the total number of times letter 'p' is appeared in the below string:-\n",
        "    \n",
        "#Input:- 'peter piper picked a peck of pickled peppers.'\n",
        "#Output:- 9\n",
        "my_str='peter piper picked a peck of pickled peppers.'\n",
        "i = 0\n",
        "j=0\n",
        "countIndex=0\n",
        "countFind=0\n",
        "while (i<len(my_str) and i!=-1):\n",
        "  i=my_str.find('p',j,len(my_str))\n",
        "  j=i+1\n",
        "  if(i!=-1):\n",
        "    countFind=countFind+1\n",
        "print(countFind)\n",
        "\n",
        "\n"
      ],
      "execution_count": 158,
      "outputs": [
        {
          "output_type": "stream",
          "text": [
            "9\n"
          ],
          "name": "stdout"
        }
      ]
    },
    {
      "cell_type": "code",
      "metadata": {
        "id": "-iZtqbEo4bQp",
        "colab_type": "code",
        "colab": {
          "base_uri": "https://localhost:8080/",
          "height": 177
        },
        "outputId": "544962a1-3d7c-429d-a8a4-c1659753672f"
      },
      "source": [
        "#Write a Python Program, to print all the indexes of all occurences of letter 'p' appeared in the string:-\n",
        "    \n",
        "#Input:- 'peter piper picked a peck of pickled peppers.'\n",
        "#Output:- \n",
        "# 0\n",
        "# 6\n",
        "# 8\n",
        "# 12\n",
        "# 21\n",
        "# 29\n",
        "# 37\n",
        "# 39\n",
        "# 40\n",
        "my_str='peter piper picked a peck of pickled peppers.'\n",
        "i = 0\n",
        "j=0\n",
        "countIndex=0\n",
        "countFind=0\n",
        "while (i<len(my_str) and i!=-1):\n",
        "  i=my_str.find('p',j,len(my_str))\n",
        "  j=i+1\n",
        "  if(i!=-1):\n",
        "    countFind=countFind+1\n",
        "    print(str(i))\n",
        "\n"
      ],
      "execution_count": 200,
      "outputs": [
        {
          "output_type": "stream",
          "text": [
            "0\n",
            "6\n",
            "8\n",
            "12\n",
            "21\n",
            "29\n",
            "37\n",
            "39\n",
            "40\n"
          ],
          "name": "stdout"
        }
      ]
    },
    {
      "cell_type": "code",
      "metadata": {
        "id": "_A8Eu8f84daM",
        "colab_type": "code",
        "colab": {
          "base_uri": "https://localhost:8080/",
          "height": 52
        },
        "outputId": "355f0a09-5cda-4f73-e963-8acdf7a1a7f2"
      },
      "source": [
        "#Write a python program to find below output:-\n",
        "\n",
        "#Input:- 'peter piper picked a peck of pickled peppers.'\n",
        "#Output:- ['peter', 'piper', 'picked', 'a', 'peck', 'of', 'pickled', 'peppers']\n",
        "\n",
        "InputString = input(\"Enter String: \")\n",
        "print(InputString.split())\n",
        "\n"
      ],
      "execution_count": 160,
      "outputs": [
        {
          "output_type": "stream",
          "text": [
            "Enter String: peter piper picked a peck of pickled peppers.\n",
            "['peter', 'piper', 'picked', 'a', 'peck', 'of', 'pickled', 'peppers.']\n"
          ],
          "name": "stdout"
        }
      ]
    },
    {
      "cell_type": "code",
      "metadata": {
        "id": "juh7tQuL4fNc",
        "colab_type": "code",
        "colab": {
          "base_uri": "https://localhost:8080/",
          "height": 52
        },
        "outputId": "62f44459-f86f-4a11-b5a6-629f1c9eacfb"
      },
      "source": [
        "#Write a python program to find below output:-\n",
        "\n",
        "#Input:- 'peter piper picked a peck of pickled peppers.'\n",
        "#Output:- 'peppers pickled of peck a picked piper peter'\n",
        "InputString = input(\"Enter String: \")\n",
        "print((' '.join(InputString.split()[::-1])).replace('.',''))\n"
      ],
      "execution_count": 163,
      "outputs": [
        {
          "output_type": "stream",
          "text": [
            "Enter String: peter piper picked a peck of pickled peppers.\n",
            "peppers pickled of peck a picked piper peter\n"
          ],
          "name": "stdout"
        }
      ]
    },
    {
      "cell_type": "code",
      "metadata": {
        "id": "aaHQYz194fW7",
        "colab_type": "code",
        "colab": {
          "base_uri": "https://localhost:8080/",
          "height": 70
        },
        "outputId": "ed77a716-32db-4a3b-f0bd-5a9ec6252c40"
      },
      "source": [
        "#Write a python program to find below output:-\n",
        "\n",
        "#Input:- 'peter piper picked a peck of pickled peppers.'\n",
        "#Output:- 'sreppep delkcip fo kcep a dekcip repip retep'\n",
        "InputString = input(\"Enter String: \")\n",
        "list1= InputString.replace('.','').split()[::-1]\n",
        "print(list1)\n",
        "list2 = []\n",
        "for i in list1:\n",
        "  list2.append(i[::-1])\n",
        "print(list2)\n",
        "\n",
        "\n",
        "\n"
      ],
      "execution_count": 169,
      "outputs": [
        {
          "output_type": "stream",
          "text": [
            "Enter String: peter piper picked a peck of pickled peppers.\n",
            "['peppers', 'pickled', 'of', 'peck', 'a', 'picked', 'piper', 'peter']\n",
            "['sreppep', 'delkcip', 'fo', 'kcep', 'a', 'dekcip', 'repip', 'retep']\n"
          ],
          "name": "stdout"
        }
      ]
    },
    {
      "cell_type": "code",
      "metadata": {
        "id": "LSgj9glC4feI",
        "colab_type": "code",
        "colab": {
          "base_uri": "https://localhost:8080/",
          "height": 52
        },
        "outputId": "f5ba039b-9447-4b72-881a-bf44959d1136"
      },
      "source": [
        "#Write a python program to find below output:-\n",
        "\n",
        "#Input:- 'peter piper picked a peck of pickled peppers.'\n",
        "#Output:- 'retep repip dekcip a kcep fo delkcip sreppep'\n",
        "InputString = input(\"Enter String: \")\n",
        "list1= InputString.replace('.','').split()\n",
        "list2 = []\n",
        "for i in list1:\n",
        "  list2.append(i[::-1])\n",
        "print(list2)\n"
      ],
      "execution_count": 171,
      "outputs": [
        {
          "output_type": "stream",
          "text": [
            "Enter String: peter piper picked a peck of pickled peppers.\n",
            "['retep', 'repip', 'dekcip', 'a', 'kcep', 'fo', 'delkcip', 'sreppep']\n"
          ],
          "name": "stdout"
        }
      ]
    },
    {
      "cell_type": "code",
      "metadata": {
        "id": "WUxPAkY94foo",
        "colab_type": "code",
        "colab": {
          "base_uri": "https://localhost:8080/",
          "height": 52
        },
        "outputId": "da23460b-e17c-49b5-f40f-662f82cdbbff"
      },
      "source": [
        "#Write a python program to find below output:-\n",
        "\n",
        "#Input:- 'peter piper picked a peck of pickled peppers.'\n",
        "#Output:- 'Peter Piper Picked A Peck Of Pickled Peppers'\n",
        "InputString = input(\"Enter String: \")\n",
        "print(InputString.title())\n"
      ],
      "execution_count": 172,
      "outputs": [
        {
          "output_type": "stream",
          "text": [
            "Enter String: peter piper picked a peck of pickled peppers.\n",
            "Peter Piper Picked A Peck Of Pickled Peppers.\n"
          ],
          "name": "stdout"
        }
      ]
    },
    {
      "cell_type": "code",
      "metadata": {
        "id": "IT1NSPxA4mww",
        "colab_type": "code",
        "colab": {
          "base_uri": "https://localhost:8080/",
          "height": 52
        },
        "outputId": "638cc283-00e3-490b-d8a5-eb139c30cf16"
      },
      "source": [
        "#Write a python program to find below output:-\n",
        "\n",
        "#Input:- 'Peter Piper Picked A Peck Of Pickled Peppers.'\n",
        "#Output:- 'Peter piper picked a peck of pickled peppers'\n",
        "InputString = input(\"Enter String: \")\n",
        "print(InputString.capitalize())\n",
        "\n"
      ],
      "execution_count": 173,
      "outputs": [
        {
          "output_type": "stream",
          "text": [
            "Enter String: Peter Piper Picked A Peck Of Pickled Peppers.\n",
            "Peter piper picked a peck of pickled peppers.\n"
          ],
          "name": "stdout"
        }
      ]
    },
    {
      "cell_type": "code",
      "metadata": {
        "id": "3Gg65vSc4m3C",
        "colab_type": "code",
        "colab": {
          "base_uri": "https://localhost:8080/",
          "height": 70
        },
        "outputId": "697fa150-3145-405f-aa06-f80f278ef6ec"
      },
      "source": [
        "#Write a python program to implement index method. If sub_str is found in my_str then it will print the index\n",
        "# of first occurrence of first character of matching string in my_str:-\n",
        "\n",
        "#Input:- my_str = 'Peter Piper Picked A Peck Of Pickled Peppers.', sub_str = 'Pickl'\n",
        "#Output:- 29\n",
        "InputString = input(\"Enter String: \")\n",
        "print(InputString.index('Pickl'))\n",
        "print(InputString.find('Pickl'))\n"
      ],
      "execution_count": 178,
      "outputs": [
        {
          "output_type": "stream",
          "text": [
            "Enter String: Peter Piper Picked A Peck Of Pickled Peppers.\n",
            "29\n",
            "29\n"
          ],
          "name": "stdout"
        }
      ]
    },
    {
      "cell_type": "code",
      "metadata": {
        "id": "iFRhp_JI4m6k",
        "colab_type": "code",
        "colab": {
          "base_uri": "https://localhost:8080/",
          "height": 52
        },
        "outputId": "6b9ffb88-4854-4417-e7fb-70b787ef6a94"
      },
      "source": [
        "#Write a python program to implement replace method. If sub_str is found in my_str then it will replace the first \n",
        "#occurrence of sub_str with new_str else it will will print sub_str not found:-\n",
        "\n",
        "#Input:- my_str = 'Peter Piper Picked A Peck Of Pickled Peppers.', sub_str = 'Peck', new_str = 'Pack'\n",
        "#Output:- 'Peter Piper Picked A Pack Of Pickled Peppers.'\n",
        "InputString = input(\"Enter String: \")\n",
        "print(InputString.replace('Piper','Pack'))\n"
      ],
      "execution_count": 180,
      "outputs": [
        {
          "output_type": "stream",
          "text": [
            "Enter String: Peter Piper Picked A Peck Of Pickled Peppers.\n",
            "Peter Pack Picked A Peck Of Pickled Peppers.\n"
          ],
          "name": "stdout"
        }
      ]
    },
    {
      "cell_type": "code",
      "metadata": {
        "id": "dQ9YhBBc4m9V",
        "colab_type": "code",
        "colab": {
          "base_uri": "https://localhost:8080/",
          "height": 106
        },
        "outputId": "3bf3e6d8-413c-481b-bd85-7f52f970ef77"
      },
      "source": [
        "#Write a python program to find below output (implements rjust and ljust):-\n",
        "\n",
        "#Input:- 'Peter Piper Picked A Peck Of Pickled Peppers.', sub_str = 'Peck', \n",
        "#Output:- '*********************Peck********************'\n",
        "InputString = input(\"Enter String: \")\n",
        "print(\"Peck\".center(len(InputString),'*'))\n",
        "\n",
        "end1=InputString.find(\"Peck\")\n",
        "str1=\"Peck\".rjust(end1+len(\"Peck\"),\"*\")\n",
        "print(str1)\n",
        "str2=\"\".rjust(len(InputString)-end1-len(\"Peck\"),\"*\")\n",
        "print(str2)\n",
        "print(str1+str2)\n"
      ],
      "execution_count": 188,
      "outputs": [
        {
          "output_type": "stream",
          "text": [
            "Enter String: Peter Piper Picked A Peck Of Pickled Peppers.\n",
            "*********************Peck********************\n",
            "*********************Peck\n",
            "********************\n",
            "*********************Peck********************\n"
          ],
          "name": "stdout"
        }
      ]
    },
    {
      "cell_type": "code",
      "metadata": {
        "id": "w37BRLdt4tYT",
        "colab_type": "code",
        "colab": {
          "base_uri": "https://localhost:8080/",
          "height": 52
        },
        "outputId": "47a9529f-1ba2-4ba9-b455-9a42f545e937"
      },
      "source": [
        "#Write a python program to find below output (implement partition and rpartition):-\n",
        "\n",
        "#Input:- 'This is Python class', sep = 'is', \n",
        "#Output:- ['This', 'is', 'Python class']\n",
        "StringInput='This is Python class'\n",
        "sep = 'is'\n",
        "print(StringInput.partition(sep))\n",
        "print(StringInput.rpartition(sep))\n",
        "\n",
        "\n"
      ],
      "execution_count": 189,
      "outputs": [
        {
          "output_type": "stream",
          "text": [
            "('Th', 'is', ' is Python class')\n",
            "('This ', 'is', ' Python class')\n"
          ],
          "name": "stdout"
        }
      ]
    },
    {
      "cell_type": "code",
      "metadata": {
        "id": "W64gCpeu4vaF",
        "colab_type": "code",
        "colab": {
          "base_uri": "https://localhost:8080/",
          "height": 124
        },
        "outputId": "9d109243-1997-40f0-e376-7192ef4e9c19"
      },
      "source": [
        "#Write a python program which takes one input string from user and encode it in below format:-\n",
        "    # 1. #Input:- 'Python'\n",
        "       #Output:- 'R{vjqp'\n",
        "InputString = list(input(\"Enter the string to be decoded :\"))\n",
        "OutputString = ''\n",
        "for i in InputString:\n",
        "  OutputString=OutputString + chr(ord(i)+2)\n",
        "print(OutputString)     \n",
        "        \n",
        "        \n",
        "\n",
        "    # 2. #Input:- 'Python'\n",
        "       #Output:- 'Rwvfql'\n",
        "InputString = list(input(\"Enter the string to be decoded :\"))\n",
        "OutputString = ''\n",
        "for i in range(len(InputString)):\n",
        "  if(i%2==0):\n",
        "    OutputString=OutputString + chr(ord(InputString[i])+2)\n",
        "  else:\n",
        "    OutputString=OutputString + chr(ord(InputString[i])-2)\n",
        "print(OutputString)          \n",
        "        \n",
        "        \n",
        "        \n",
        "        \n",
        "    # 3. #Input:- 'Python'\n",
        "       #Output:- 'R{vkfml'\n",
        "InputString = list(input(\"Enter the string to be decoded :\"))\n",
        "OutputString = ''\n",
        "for i in range(int(len(InputString)/2)):\n",
        "  OutputString=OutputString + chr(ord(InputString[i])+2)\n",
        "for i in range(int(len(InputString)/2),len(InputString),1):\n",
        "  OutputString=OutputString + chr(ord(InputString[i])-2)\n",
        "print(OutputString)   \n",
        "\n",
        "\n",
        "        \n",
        "        \n",
        "        \n",
        "        \n",
        "        "
      ],
      "execution_count": 198,
      "outputs": [
        {
          "output_type": "stream",
          "text": [
            "Enter the string to be decoded :Python\n",
            "R{vjqp\n",
            "Enter the string to be decoded :Python\n",
            "Rwvfql\n",
            "Enter the string to be decoded :Python\n",
            "R{vfml\n"
          ],
          "name": "stdout"
        }
      ]
    }
  ]
}