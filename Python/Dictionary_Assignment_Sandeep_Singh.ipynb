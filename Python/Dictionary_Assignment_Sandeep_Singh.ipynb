{
  "nbformat": 4,
  "nbformat_minor": 0,
  "metadata": {
    "colab": {
      "name": "Dictionary_Assignment (2).ipynb",
      "provenance": [],
      "collapsed_sections": []
    },
    "kernelspec": {
      "name": "python3",
      "display_name": "Python 3"
    }
  },
  "cells": [
    {
      "cell_type": "code",
      "metadata": {
        "id": "2k4ZB9yltJCa",
        "colab_type": "code",
        "colab": {
          "base_uri": "https://localhost:8080/",
          "height": 159
        },
        "outputId": "1997efe2-d016-4004-d934-071ef24aa6aa"
      },
      "source": [
        "# Initialize a dictionary \"emp_info\" with below details\n",
        "# In - emp_info['Tom']\n",
        "# Out - {'email':'tom_latham019@gmail.com', 'Phone': +1987654321, 'City': 'California'}\n",
        "\n",
        "# In - emp_info['Kathy']\n",
        "# Out - {'email':'kathy_abram897@gmail.com', 'Phone': +1887654321, 'City': 'New York'}\n",
        "\n",
        "emp_info={\"Tom\":{'email':'tom_latham019@gmail.com', 'Phone': +1987654321, 'City': 'California'},\n",
        "          \"Kathy\":{'email':'kathy_abram897@gmail.com', 'Phone': +1887654321, 'City': 'New York'}}\n",
        "print(emp_info['Tom'])\n",
        "print(emp_info['Kathy'])\n",
        "print(\"################################Another way ######################################\")\n",
        "emp_key = ['Tom','Kathy']\n",
        "emp_inner_key = ['email','Phone','City']\n",
        "emp1_value= ['tom_latham019@gmail.com','+1987654321','California']\n",
        "emp2_value=['kathy_abram897@gmail.com','+1887654321','New York']\n",
        "\n",
        "emp_info=dict(zip(emp_key,(dict(zip(emp_inner_key,emp1_value)),dict(zip(emp_inner_key,emp2_value)))))\n",
        "\n",
        "print(emp_info['Tom'])\n",
        "print(emp_info['Kathy'])\n",
        "\n",
        "print(\"################################Another way ######################################\")\n",
        "\n",
        "dictTom=dict([('email','tom_latham019@gmail.com'), ('Phone','+1987654321'), ('City','California')])\n",
        "dictKathy=dict([('email','kathy_abram897@gmail.com'),('Phone','+1887654321'),('City', 'New York')])\n",
        "listofempinfo=[('Tom',dictTom),('Kathy',dictKathy)]\n",
        "emp_info=dict(listofempinfo)\n",
        "print(emp_info['Tom'])\n",
        "print(emp_info['Kathy'])\n"
      ],
      "execution_count": null,
      "outputs": [
        {
          "output_type": "stream",
          "text": [
            "{'email': 'tom_latham019@gmail.com', 'Phone': 1987654321, 'City': 'California'}\n",
            "{'email': 'kathy_abram897@gmail.com', 'Phone': 1887654321, 'City': 'New York'}\n",
            "################################Another way ######################################\n",
            "{'email': 'tom_latham019@gmail.com', 'Phone': '+1987654321', 'City': 'California'}\n",
            "{'email': 'kathy_abram897@gmail.com', 'Phone': '+1887654321', 'City': 'New York'}\n",
            "################################Another way ######################################\n",
            "{'email': 'tom_latham019@gmail.com', 'Phone': '+1987654321', 'City': 'California'}\n",
            "{'email': 'kathy_abram897@gmail.com', 'Phone': '+1887654321', 'City': 'New York'}\n"
          ],
          "name": "stdout"
        }
      ]
    },
    {
      "cell_type": "code",
      "metadata": {
        "id": "BAUj-S0fqFWG",
        "colab_type": "code",
        "colab": {
          "base_uri": "https://localhost:8080/",
          "height": 55
        },
        "outputId": "1367f1c3-05fa-4377-eac7-890bb0865d19"
      },
      "source": [
        "# Create a dictionary out of below inputs\n",
        "lst1 = ['emp1', 'emp2', 'emp3']\n",
        "emp_key = ['e_name', 'e_id', 'e_sal']\n",
        "emp1_val = ['John', 'SG101', '$10,000']\n",
        "emp2_val = ['Smith', 'SG102', '$9,000']\n",
        "emp3_val = ['Peter', 'SG103', '$9,500']\n",
        "\n",
        "# Expected Output:- {'emp1':{'e_name':'John', 'e_id':'SG101', 'e_sal':$10,000}, \n",
        "#                    'emp2':{'e_name':'Smith', 'e_id':'SG102', 'e_sal':$9,000}, \n",
        "#                    'emp3':{'e_name':'Peter', 'e_id':'SG103', 'e_sal':$9,500}}\n",
        "\n",
        "empdict=dict(zip(lst1,(dict(zip(emp_key,emp1_val)),dict(zip(emp_key,emp2_val)),dict(zip(emp_key,emp3_val)))))\n",
        "print(empdict)\n"
      ],
      "execution_count": null,
      "outputs": [
        {
          "output_type": "stream",
          "text": [
            "{'emp1': {'e_name': 'John', 'e_id': 'SG101', 'e_sal': '$10,000'}, 'emp2': {'e_name': 'Smith', 'e_id': 'SG102', 'e_sal': '$9,000'}, 'emp3': {'e_name': 'Peter', 'e_id': 'SG103', 'e_sal': '$9,500'}}\n"
          ],
          "name": "stdout"
        }
      ]
    },
    {
      "cell_type": "code",
      "metadata": {
        "id": "LxGZ3jbjrBkj",
        "colab_type": "code",
        "colab": {
          "base_uri": "https://localhost:8080/",
          "height": 35
        },
        "outputId": "2466ceb3-6e52-411c-da61-ecbcbc2ee703"
      },
      "source": [
        "# Acess the value of key 'history'\n",
        "\n",
        "sampleDict = { \n",
        "   \"class\":{ \n",
        "      \"student\":{ \n",
        "         \"name\":\"Mike\",\n",
        "         \"marks\":{ \n",
        "            \"physics\":70,\n",
        "            \"history\":80\n",
        "         }\n",
        "      }\n",
        "   }\n",
        "}\n",
        "\n",
        "print(sampleDict['class']['student']['marks']['history'])\n"
      ],
      "execution_count": null,
      "outputs": [
        {
          "output_type": "stream",
          "text": [
            "80\n"
          ],
          "name": "stdout"
        }
      ]
    },
    {
      "cell_type": "code",
      "metadata": {
        "id": "Vm8UZbyNrKID",
        "colab_type": "code",
        "colab": {
          "base_uri": "https://localhost:8080/",
          "height": 90
        },
        "outputId": "405e1310-4d8f-416f-9f3b-6b0b0c343c6b"
      },
      "source": [
        "# Initialize dictionary with default values. Inputs are:-\n",
        "employees = ['Kelly', 'Emma', 'John']\n",
        "defaults = {\"designation\": 'Application Developer', \"salary\": 8000}\n",
        "\n",
        "#Expected output:- {'Kelly': {'designation': 'Application Developer', 'salary': 8000}, \n",
        "#                   'Emma': {'designation': 'Application Developer', 'salary': 8000}, \n",
        "#                   'John': {'designation': 'Application Developer', 'salary': 8000}}\n",
        "\n",
        "empDictionary={}\n",
        "for i in employees:\n",
        "  empDictionary.setdefault(i,defaults)\n",
        "print(empDictionary)\n",
        "\n",
        "print(\"################################Another way ######################################\")\n",
        "\n",
        "empDictionary2={}\n",
        "print(empDictionary2.fromkeys(employees,defaults))\n"
      ],
      "execution_count": null,
      "outputs": [
        {
          "output_type": "stream",
          "text": [
            "{'Kelly': {'designation': 'Application Developer', 'salary': 8000}, 'Emma': {'designation': 'Application Developer', 'salary': 8000}, 'John': {'designation': 'Application Developer', 'salary': 8000}}\n",
            "################################Another way ######################################\n",
            "{'Kelly': {'designation': 'Application Developer', 'salary': 8000}, 'Emma': {'designation': 'Application Developer', 'salary': 8000}, 'John': {'designation': 'Application Developer', 'salary': 8000}}\n"
          ],
          "name": "stdout"
        }
      ]
    },
    {
      "cell_type": "code",
      "metadata": {
        "id": "nmFdbaHBrThC",
        "colab_type": "code",
        "colab": {
          "base_uri": "https://localhost:8080/",
          "height": 52
        },
        "outputId": "3302519f-0c43-4b48-9e5e-8e5c616cdb66"
      },
      "source": [
        "# In gene expression, mRNA is transcribed from a DNA template. \n",
        "# The 4 nucleotide bases of A, T, C, G corresponds to the U, A, G, C bases of the mRNA. \n",
        "# Write a function that returns the mRNA transcript given the sequence of a DNA strand.\n",
        "listDNA = ['A', 'T', 'C', 'G']\n",
        "listRNA = ['U', 'A', 'G', 'C']\n",
        "\n",
        "dictDNAtiRNA = dict(zip(listDNA,listRNA))\n",
        "\n",
        "def DNAtoRNA (seqDNA):\n",
        "  listMRNA = []\n",
        "  for i in seqDNA:\n",
        "    listMRNA.append(dictDNAtiRNA[i])\n",
        "  return listMRNA\n",
        "\n",
        "seqDNA = list(input(\"Give DNA strand : \").upper())\n",
        "\n",
        "print(''.join(DNAtoRNA(seqDNA)))\n",
        "\n",
        "\n",
        "\n",
        "\n",
        "\n",
        "# Use a dictionary to provide the mapping of DNA to RNA bases."
      ],
      "execution_count": null,
      "outputs": [
        {
          "output_type": "stream",
          "text": [
            "Give DNA strand : GCTA\n",
            "CGAU\n"
          ],
          "name": "stdout"
        }
      ]
    },
    {
      "cell_type": "code",
      "metadata": {
        "id": "rop1A1pQw6Uk",
        "colab_type": "code",
        "colab": {
          "base_uri": "https://localhost:8080/",
          "height": 52
        },
        "outputId": "9f598fd5-d7b3-4b68-f775-8ee6daee1e86"
      },
      "source": [
        "# Write a function which takes a word as input and returns a dictionary with letters as key and no of time letters are repeated as value.\n",
        "# In - count_letter('google.com')\n",
        "# Out - {'g': 2, 'o': 3, 'l': 1, 'e': 1, '.': 1, 'c': 1, 'm': 1}\n",
        "\n",
        "InputWord=input(\"Enter a word to be investigated \")\n",
        "\n",
        "def charcount(InputWord):\n",
        "  CountDict = {}\n",
        "  for i in InputWord:\n",
        "    if i in CountDict.keys():\n",
        "      CountDict[i] = CountDict[i] + 1\n",
        "    else:\n",
        "      CountDict.setdefault(i,1)\n",
        "  return CountDict\n",
        "\n",
        "print(charcount(InputWord))\n",
        "    "
      ],
      "execution_count": null,
      "outputs": [
        {
          "output_type": "stream",
          "text": [
            "Enter a word to be investigated google.com\n",
            "{'g': 2, 'o': 3, 'l': 1, 'e': 1, '.': 1, 'c': 1, 'm': 1}\n"
          ],
          "name": "stdout"
        }
      ]
    },
    {
      "cell_type": "code",
      "metadata": {
        "id": "vAwGIoxdw856",
        "colab_type": "code",
        "colab": {
          "base_uri": "https://localhost:8080/",
          "height": 52
        },
        "outputId": "9be094ab-6aeb-4ec6-ed57-dcc27d09b096"
      },
      "source": [
        "# A DNA strand consisting of the 4 nucleotide bases is usually represented with a string of letters: A,T, C, G. \n",
        "# Write a function that computes the base composition of a given DNA sequence.\n",
        "\n",
        "# In - baseComposition(\"CTATCGGCACCCTTTCAGCA\")\n",
        "# Out - {'A': 4, 'C': 8, 'T': 5,  'G': 3 }\n",
        "    \n",
        "# In - baseComposition(\"AGT\")\n",
        "# Out - {'A': 1, 'C': 0, 'T': 1,  'G': 1 }\n",
        "\n",
        "InputWord=input(\"Enter a composition to be investigated \")\n",
        "\n",
        "def charcount(InputWord):\n",
        "  CountDict = {}\n",
        "  listDNA = ['A','T', 'C', 'G']\n",
        "  for i in InputWord:\n",
        "    if (i in CountDict.keys()) and (i in listDNA):\n",
        "      CountDict[i] = CountDict[i] + 1\n",
        "    elif (i not in CountDict.keys()) and (i in listDNA):\n",
        "      CountDict.setdefault(i,1)\n",
        "    else:\n",
        "      print(str(i) + \"is not in the DNA sequence\")\n",
        "  for j in listDNA:\n",
        "    if j not in InputWord:\n",
        "      CountDict.setdefault(j,0)\n",
        "  return CountDict\n",
        "\n",
        "print(charcount(InputWord))"
      ],
      "execution_count": null,
      "outputs": [
        {
          "output_type": "stream",
          "text": [
            "Enter a composition to be investigated AGT\n",
            "{'A': 1, 'G': 1, 'T': 1, 'C': 0}\n"
          ],
          "name": "stdout"
        }
      ]
    },
    {
      "cell_type": "code",
      "metadata": {
        "id": "iVNnSsvaxMDo",
        "colab_type": "code",
        "colab": {}
      },
      "source": [
        "# [MCQ] Suppose \"d\" is an empty dictionary, which statement does not assign \"d\" with {\"Name\":\"Tom\"}? \n",
        "# 1. d = {\"Name\": \"Tom\" }\n",
        "# 2. d[\"Name\"] = \"Tom\"\n",
        "# 3. d.update({\"Name\": \"Tom\" })\n",
        "# 4. d.setdefault(\"Name\", \"Tom\")\n",
        "# 5. None of the above.\n",
        "\n",
        "5."
      ],
      "execution_count": null,
      "outputs": []
    },
    {
      "cell_type": "code",
      "metadata": {
        "id": "tOgsXi2axnhF",
        "colab_type": "code",
        "colab": {}
      },
      "source": [
        "# [MCQ] d = {\"a\":1, \"b\":2}. Which of the statements returns [1,2]? \n",
        "# 1. d.keys()\n",
        "# 2. d.values()\n",
        "# 3. d.items()\n",
        "# 4. d.popitem()\n",
        "# 5. None of the above.\n",
        "\n",
        "2."
      ],
      "execution_count": null,
      "outputs": []
    },
    {
      "cell_type": "code",
      "metadata": {
        "id": "BeNNopkDzK0k",
        "colab_type": "code",
        "colab": {}
      },
      "source": [
        "# [MCQ] Which of the following declarations is not valid for 'dict' type?\n",
        "# 1. d = {\"Name\": \"Tom\" }\n",
        "# 2. d = { (1,3,4): 4.5 }\n",
        "# 3. d = { [\"First\", \"Last\"]: (1,3) }\n",
        "# 4. d = { 1: 0.4 }\n",
        "# 5. None of the above\n",
        "\n",
        "3."
      ],
      "execution_count": null,
      "outputs": []
    },
    {
      "cell_type": "code",
      "metadata": {
        "id": "7kPbKcfMzTHP",
        "colab_type": "code",
        "colab": {
          "base_uri": "https://localhost:8080/",
          "height": 70
        },
        "outputId": "d9d4f5c2-ec04-4512-ae79-9f8171e6fae7"
      },
      "source": [
        "# Write a function reverseLookup(dictionary, value) that takes in a dictionary \n",
        "# and a value as arguments and returns a sorted list of all keys that contains the value. \n",
        "# The function will return an empty list if no match is found.\n",
        "\n",
        "# In - reverseLookup({'a':1, 'b':2, 'c':2}, 1)\n",
        "# Out - ['a']\n",
        "# In - reverseLookup({'a':1, 'b':2, 'c':2}, 2)\n",
        "# Out - ['b', 'c']\n",
        "# In - reverseLookup({'a':1, 'b':2, 'c':2}, 3)\n",
        "# Out - []\n",
        "\n",
        "InputDictionary = eval(input(\"Enter Dictionary : \"))\n",
        "InputValue = eval(input(\"Enter Value : \"))\n",
        "\n",
        "def reverseLookup(InputDictionary,InputValue):\n",
        "  listKeys = []\n",
        "  for key,value in InputDictionary.items():\n",
        "    if value == InputValue:\n",
        "      listKeys.append(key)\n",
        "  listKeys.sort()\n",
        "  return listKeys\n",
        "\n",
        "print(reverseLookup(InputDictionary,InputValue))\n",
        "\n"
      ],
      "execution_count": 14,
      "outputs": [
        {
          "output_type": "stream",
          "text": [
            "Enter Dictionary : {'a':1, 'b':2, 'c':2}\n",
            "Enter Value : 3\n",
            "[]\n"
          ],
          "name": "stdout"
        }
      ]
    },
    {
      "cell_type": "code",
      "metadata": {
        "id": "s87Rvg2HDFYp",
        "colab_type": "code",
        "colab": {
          "base_uri": "https://localhost:8080/",
          "height": 52
        },
        "outputId": "19636788-4ed6-40a3-dcb3-dea6458daf4e"
      },
      "source": [
        "# Write a function invertDictionary(d) that takes in a dictionary as argument and return a dictionary that inverts the keys and the values of the original dictionary.\n",
        "# In - invertDictionary({'a':1, 'b':2, 'c':3, 'd':2})\n",
        "# Out - {1: ['a'], 2: ['b', 'd'], 3: ['c']}\n",
        "# In - invertDictionary({'a':3, 'b':3, 'c':3})\n",
        "# Out - {3: ['a', 'c', 'b']}\n",
        "# In - invertDictionary({'a':2, 'b':1, 'c':2, 'd':1})\n",
        "# Out - {1: ['b', 'd'], 2: ['a', 'c']}\n",
        "InputDictionary = eval(input(\"Enter Dictionary : \"))\n",
        "def invertDictionary(InputDictionary):\n",
        "  listKeys=[]\n",
        "  listValues=[]\n",
        "  \n",
        "  for key,value in InputDictionary.items():\n",
        "    if value not in listKeys:\n",
        "      listKeys.append(value)\n",
        "  for i in range(len(listKeys)):\n",
        "    innerlistvalues=[]\n",
        "    for key,value in InputDictionary.items():\n",
        "        if listKeys[i] == value:\n",
        "          innerlistvalues.append(key)\n",
        "    listValues.append(innerlistvalues)\n",
        "  return dict(zip(listKeys,listValues))\n",
        "\n",
        "invertDictionary(InputDictionary)"
      ],
      "execution_count": 42,
      "outputs": [
        {
          "output_type": "stream",
          "text": [
            "Enter Dictionary : {'a':2, 'b':1, 'c':2, 'd':1}\n"
          ],
          "name": "stdout"
        },
        {
          "output_type": "execute_result",
          "data": {
            "text/plain": [
              "{1: ['b', 'd'], 2: ['a', 'c']}"
            ]
          },
          "metadata": {
            "tags": []
          },
          "execution_count": 42
        }
      ]
    },
    {
      "cell_type": "code",
      "metadata": {
        "id": "DgYyaZU6Oz7E",
        "colab_type": "code",
        "colab": {
          "base_uri": "https://localhost:8080/",
          "height": 52
        },
        "outputId": "8cf84bb3-ded8-4279-bad3-4eacc6ed0af3"
      },
      "source": [
        "# Write a function that converts a sparse vector into a dictionary as described above.\n",
        "# In - convertVector([1, 0, 0, 2, 0, 0, 0, 3, 0, 0, 0, 0, 4])\n",
        "# Out - {0: 1, 3: 2, 7: 3, 12: 4}\n",
        "# In - convertVector([1, 0, 1 , 0, 2, 0, 1, 0, 0, 1, 0])\n",
        "# Out - {0: 1, 2: 1, 4: 2, 6: 1, 9: 1}\n",
        "# In - convertVector([0, 0, 0, 0, 0])\n",
        "# Out - {}\n",
        "\n",
        "InputSparseVector = eval(input(\"Enter Sparse Vector : \"))\n",
        "\n",
        "def convertVector(InputSparseVector):\n",
        "  SparseVecotDict = {}\n",
        "  for i in range(len(InputSparseVector)):\n",
        "    if (InputSparseVector[i] > 0):\n",
        "      SparseVecotDict[i] = InputSparseVector[i]\n",
        "  return SparseVecotDict\n",
        "print(convertVector(InputSparseVector))"
      ],
      "execution_count": null,
      "outputs": [
        {
          "output_type": "stream",
          "text": [
            "Enter Sparse Vector : [0, 0, 0, 0, 0]\n",
            "{}\n"
          ],
          "name": "stdout"
        }
      ]
    },
    {
      "cell_type": "code",
      "metadata": {
        "id": "ETCmEcflTGCI",
        "colab_type": "code",
        "colab": {
          "base_uri": "https://localhost:8080/",
          "height": 52
        },
        "outputId": "9fb7a314-0266-4833-bcab-ec01c597efec"
      },
      "source": [
        "# Write a function that converts a dictionary back to its sparse vector representation.\n",
        "# In - convertDictionary({0: 1, 3: 2, 7: 3, 12: 4})\n",
        "# Out - [1, 0, 0, 2, 0, 0, 0, 3, 0, 0, 0, 0, 4]\n",
        "# In - convertDictionary({0: 1, 2: 1, 4: 2, 6: 1, 9: 1})\n",
        "# Out - [1, 0, 1, 0, 2, 0, 1, 0, 0, 1]\n",
        "# In - convertDictionary({})\n",
        "# Out - []\n",
        "\n",
        "InputDictionary = eval(input(\"Enter Dictionary : \"))\n",
        "def convertVector(InputDictionary):\n",
        "  SparseVecotList = []\n",
        "  if(len(InputDictionary)>0):\n",
        "    for i in range(max(list(InputDictionary.keys()))+1):\n",
        "      if (i in list(InputDictionary.keys())):\n",
        "        SparseVecotList.append(InputDictionary[i])\n",
        "      else:\n",
        "        SparseVecotList.append(0)\n",
        "  else:\n",
        "    pass\n",
        "  return SparseVecotList\n",
        "print(convertVector(InputDictionary))\n",
        "\n"
      ],
      "execution_count": 9,
      "outputs": [
        {
          "output_type": "stream",
          "text": [
            "Enter Dictionary : {}\n",
            "[]\n"
          ],
          "name": "stdout"
        }
      ]
    },
    {
      "cell_type": "code",
      "metadata": {
        "id": "tTANm2QKZXh3",
        "colab_type": "code",
        "colab": {
          "base_uri": "https://localhost:8080/",
          "height": 35
        },
        "outputId": "8b7aa4e0-3b31-4496-c39b-72b9b650f04c"
      },
      "source": [
        "# Given a Python dictionary, Change Brad’s salary to 8500\n",
        "sampleDict = {\n",
        "     'emp1': {'name': 'Jhon', 'salary': 7500},\n",
        "     'emp2': {'name': 'Emma', 'salary': 8000},\n",
        "     'emp3': {'name': 'Brad', 'salary': 6500}\n",
        "      }\n",
        "\n",
        "# Expected Output\n",
        "# sampleDict = {\n",
        "#      'emp1': {'name': 'Jhon', 'salary': 7500},\n",
        "#      'emp2': {'name': 'Emma', 'salary': 8000},\n",
        "#      'emp3': {'name': 'Brad', 'salary': 8500}\n",
        "# }\n",
        "\n",
        "for i in list(sampleDict.keys()):\n",
        "  if sampleDict[i]['name'] == 'Brad':\n",
        "    sampleDict[i]['salary']=8500\n",
        "print(sampleDict)"
      ],
      "execution_count": null,
      "outputs": [
        {
          "output_type": "stream",
          "text": [
            "{'emp1': {'name': 'Jhon', 'salary': 7500}, 'emp2': {'name': 'Emma', 'salary': 8000}, 'emp3': {'name': 'Brad', 'salary': 8500}}\n"
          ],
          "name": "stdout"
        }
      ]
    },
    {
      "cell_type": "code",
      "metadata": {
        "id": "8dUHXiCVZmUx",
        "colab_type": "code",
        "colab": {
          "base_uri": "https://localhost:8080/",
          "height": 35
        },
        "outputId": "ce1932df-4f33-4e3b-9b46-f281925a0b58"
      },
      "source": [
        "# Get the key corresponding to the minimum value from the following dictionary\n",
        "sampleDict = {\n",
        "   'Physics': 82,\n",
        "   'Math': 65,\n",
        "   'history': 75\n",
        "}\n",
        "minimumval=(list(sampleDict.values()))[0]\n",
        "for j in sampleDict:\n",
        "  if(sampleDict[j]<minimumval):\n",
        "    minimumval=sampleDict[j]\n",
        "for key,value in sampleDict.items():\n",
        "  if(value==minimumval):\n",
        "    print(key)\n",
        "    break\n",
        "# Expected Output\n",
        "# Math\n",
        "\n"
      ],
      "execution_count": null,
      "outputs": [
        {
          "output_type": "stream",
          "text": [
            "Math\n"
          ],
          "name": "stdout"
        }
      ]
    },
    {
      "cell_type": "code",
      "metadata": {
        "id": "AQe5QNGdZ7aJ",
        "colab_type": "code",
        "colab": {
          "base_uri": "https://localhost:8080/",
          "height": 35
        },
        "outputId": "983d5401-52e1-4dd0-e7c5-ca00cf6f2889"
      },
      "source": [
        "# Rename key city to location in the following dictionary\n",
        "sampleDict = {\n",
        "   \"name\": \"Kelly\",\n",
        "   \"age\":25,\n",
        "   \"salary\": 8000,\n",
        "   \"city\": \"New york\"\n",
        " }\n",
        "sampleDict[\"location\"] = sampleDict.pop(\"city\")\n",
        "print(sampleDict)\n",
        "# Expected Output\n",
        "# {\n",
        "#   \"name\": \"Kelly\",\n",
        "#   \"age\":25,\n",
        "#   \"salary\": 8000,\n",
        "#   \"location\": \"New york\"\n",
        "# }"
      ],
      "execution_count": null,
      "outputs": [
        {
          "output_type": "stream",
          "text": [
            "{'name': 'Kelly', 'age': 25, 'salary': 8000, 'location': 'New york'}\n"
          ],
          "name": "stdout"
        }
      ]
    },
    {
      "cell_type": "code",
      "metadata": {
        "id": "e19_ddO9aNNw",
        "colab_type": "code",
        "colab": {
          "base_uri": "https://localhost:8080/",
          "height": 35
        },
        "outputId": "1a9d37a0-07b6-4380-d9bb-3b85e9ce958c"
      },
      "source": [
        "# Check if a value 200 exists in a dictionary\n",
        "sampleDict = {'a': 100, 'b': 200, 'c': 300}\n",
        "print(200 in sampleDict.values())\n",
        "# Expected Output: True"
      ],
      "execution_count": null,
      "outputs": [
        {
          "output_type": "stream",
          "text": [
            "True\n"
          ],
          "name": "stdout"
        }
      ]
    },
    {
      "cell_type": "code",
      "metadata": {
        "id": "yphwjc1gabMa",
        "colab_type": "code",
        "colab": {
          "base_uri": "https://localhost:8080/",
          "height": 124
        },
        "outputId": "54e8aea5-e30f-4480-da88-6002d7997b24"
      },
      "source": [
        "# Delete set of keys from Python Dictionary\n",
        "sampleDict = {\n",
        "  \"name\": \"Kelly\",\n",
        "  \"age\":25,\n",
        "  \"salary\": 8000,\n",
        "  \"city\": \"New york\"\n",
        "}\n",
        "# keysToRemove = [\"name\", \"salary\"]\n",
        "keystobedelted = ''\n",
        "while True:\n",
        "  keystobedelted = str(input(\"Eneter the key you want to delete, Stop to stop the loop:\"))\n",
        "  if(keystobedelted=='Stop'):\n",
        "    break\n",
        "  else:\n",
        "    print(\"Key deleted: \" + str(sampleDict.pop(keystobedelted)))\n",
        "print(\"Final Dictionary \"+ str(sampleDict))\n",
        "# Expected Output:\n",
        "# {'city': 'New york', 'age': 25}\n",
        "\n"
      ],
      "execution_count": null,
      "outputs": [
        {
          "output_type": "stream",
          "text": [
            "Eneter the key you want to delete, Stop to stop the loop:name\n",
            "Key deleted: Kelly\n",
            "Eneter the key you want to delete, Stop to stop the loop:salary\n",
            "Key deleted: 8000\n",
            "Eneter the key you want to delete, Stop to stop the loop:Stop\n",
            "Final Dictionary {'age': 25, 'city': 'New york'}\n"
          ],
          "name": "stdout"
        }
      ]
    }
  ]
}