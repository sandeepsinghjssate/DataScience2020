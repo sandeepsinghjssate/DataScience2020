{
  "nbformat": 4,
  "nbformat_minor": 0,
  "metadata": {
    "colab": {
      "name": "Conditional_and_loop_assignment.ipynb",
      "provenance": [],
      "collapsed_sections": []
    },
    "kernelspec": {
      "name": "python3",
      "display_name": "Python 3"
    }
  },
  "cells": [
    {
      "cell_type": "markdown",
      "metadata": {
        "id": "wNRNTbrsc53d",
        "colab_type": "text"
      },
      "source": [
        "# If - elif - else statement"
      ]
    },
    {
      "cell_type": "code",
      "metadata": {
        "id": "MiPfTnBycxNa",
        "colab_type": "code",
        "colab": {
          "base_uri": "https://localhost:8080/",
          "height": 52
        },
        "outputId": "9ffc2fdd-9735-43ab-af2b-521dec6d39e1"
      },
      "source": [
        "#W. A P. which takes one number from 0 to 9 from the user and prints it in the word. And if the word is not from 0 to 9 then\n",
        "#it should print that number is outside of the range and program should exit.\n",
        "# For exapmple:- \n",
        "# input = 1\n",
        "# output = one\n",
        "InputNumber = int(input(\"Enter a Number between 0 to 9 :\"))\n",
        "if(InputNumber<0 or InputNumber>9):\n",
        "  print(\"Input is wrong please try again.\")\n",
        "else:\n",
        "  if(InputNumber == 0):\n",
        "    print(\"Zero\")\n",
        "  elif(InputNumber == 1):\n",
        "    print(\"One\")\n",
        "  elif(InputNumber == 2):\n",
        "    print(\"Two\")\n",
        "  elif(InputNumber == 3):\n",
        "    print(\"Three \")\n",
        "  elif(InputNumber == 4):\n",
        "    print(\"Four\")\n",
        "  elif(InputNumber == 5):\n",
        "    print(\"Five\")\n",
        "  elif(InputNumber == 6):\n",
        "    print(\"Six\")\n",
        "  elif(InputNumber == 7):\n",
        "    print(\"Seven\")\n",
        "  elif(InputNumber == 8):\n",
        "    print(\"Eight\")\n",
        "  elif(InputNumber == 9):\n",
        "    print(\"Nine\")\n"
      ],
      "execution_count": null,
      "outputs": [
        {
          "output_type": "stream",
          "text": [
            "Enter a Number between 0 to 9 :4\n",
            "Four\n"
          ],
          "name": "stdout"
        }
      ]
    },
    {
      "cell_type": "code",
      "metadata": {
        "id": "vEMNOv9zdA39",
        "colab_type": "code",
        "colab": {
          "base_uri": "https://localhost:8080/",
          "height": 260
        },
        "outputId": "0070f077-65a7-42be-c2ea-16950fccaa55"
      },
      "source": [
        "#W. A P. to implement calculator but the operation to be done and two numbers will be taken as input from user:-\n",
        "#Operation console should show below:-\n",
        "#     Please select any one operation from below:-\n",
        "#         * To add enter 1\n",
        "#         * to subtract enter 2\n",
        "#         * To multiply enter 3\n",
        "#         * To divide enter 4\n",
        "#         * To divide and find quotient enter 5\n",
        "#         * To divide and find remainder enter 6\n",
        "#         * To divide and find num1 to the power of num2 enter 7\n",
        "#         * To Come out of the program enter 8\n",
        "print(\"===================Calculator=======================\")\n",
        "Operand1 = eval(input(\"Input Operand 1 :\"))\n",
        "Operand2 = eval(input(\"Input Operand 2 :\"))\n",
        "print(\"Choose the operator from the below list: \")\n",
        "print(\"* To add enter 1\")\n",
        "print(\"* to subtract enter 2\")\n",
        "print(\"* To multiply enter 3\")\n",
        "print(\"* To divide enter 4\")\n",
        "print(\"* To divide and find quotient enter 5\")\n",
        "print(\"* To divide and find remainder enter 6\")\n",
        "print(\"* To divide and find Operand1 to the power of Operand2 enter 7\")\n",
        "print(\"* To Come out of the program enter 8\")\n",
        "operator = int(input(\"Enter the number for operator: \"))\n",
        "if(operator==1):\n",
        "  print(f\"Addition of {Operand1} and {Operand2} is {Operand1+Operand2}\")\n",
        "elif(operator==2):\n",
        "  print(f\"Subtraction of {Operand1} and {Operand2} is {Operand1-Operand2}\")\n",
        "elif(operator==3):\n",
        "  print(f\"Multiplication of {Operand1} and {Operand2} is {Operand1*Operand2}\")\n",
        "elif(operator==4):\n",
        "  print(f\"Division of {Operand1} and {Operand2} is {Operand1/Operand2}\")\n",
        "elif(operator==5):\n",
        "  print(f\"Quotient of {Operand1} and {Operand2} is {Operand1//Operand2}\")\n",
        "elif(operator==6):\n",
        "  print(f\"Remainder of {Operand1} and {Operand2} is {Operand1%Operand2}\")\n",
        "elif(operator==7):\n",
        "  print(f\"{Operand1} to the power of {Operand2} is {pow(Operand1,Operand2)}\")\n",
        "elif(operator==8):\n",
        "  print(\" No valid operand exiting\")\n",
        "else:\n",
        "  print(\"Exit\")"
      ],
      "execution_count": null,
      "outputs": [
        {
          "output_type": "stream",
          "text": [
            "===================Calculator=======================\n",
            "Input Operand 1 :45\n",
            "Input Operand 2 :5\n",
            "Choose the operator from the below list: \n",
            "* To add enter 1\n",
            "* to subtract enter 2\n",
            "* To multiply enter 3\n",
            "* To divide enter 4\n",
            "* To divide and find quotient enter 5\n",
            "* To divide and find remainder enter 6\n",
            "* To divide and find Operand1 to the power of Operand2 enter 7\n",
            "* To Come out of the program enter 8\n",
            "Enter the number for operator: 14\n",
            "Exit\n"
          ],
          "name": "stdout"
        }
      ]
    },
    {
      "cell_type": "code",
      "metadata": {
        "id": "1e2gwYLqdC1s",
        "colab_type": "code",
        "colab": {
          "base_uri": "https://localhost:8080/",
          "height": 52
        },
        "outputId": "b86a14c2-335a-4923-97d4-cba65c30bf59"
      },
      "source": [
        "#W A P to check whether a year entered by user is an leap year or not?\n",
        "#Check with below input:-\n",
        "    #leap year:- 2012, 1968, 2004, 1200, 1600,2400\n",
        "    #Non-lear year:- 1971, 2006, 1700,1800,1900\n",
        "Year= int(input(\"Enter year to be checked: \"))\n",
        "if((Year%400==0)or(Year%4==0 and Year%100!=0)):\n",
        "  print(\"Year is a leap year\")\n",
        "else:\n",
        "  print(\"Year is not a leap year\")  \n"
      ],
      "execution_count": null,
      "outputs": [
        {
          "output_type": "stream",
          "text": [
            "Enter yaer to be checked: 2000\n",
            "Year is a leap year\n"
          ],
          "name": "stdout"
        }
      ]
    },
    {
      "cell_type": "code",
      "metadata": {
        "id": "_tpXv1EtdEre",
        "colab_type": "code",
        "colab": {
          "base_uri": "https://localhost:8080/",
          "height": 52
        },
        "outputId": "4112d883-3909-4d6b-baec-995cfc441e55"
      },
      "source": [
        "#W A P which takes one number from the user and checks whether it is an even or odd number?, If it even then prints number is \n",
        "#even number else prints that number is odd number.\n",
        "NumberToBeChecked=int(input(\"Enter a number to be checked:\"))\n",
        "if(NumberToBeChecked%2==0):\n",
        "  print(\"Number is even\")\n",
        "else:\n",
        "  print(\"Number is odd\")\n",
        "  "
      ],
      "execution_count": null,
      "outputs": [
        {
          "output_type": "stream",
          "text": [
            "Enter a number to be checked:3\n",
            "Number is odd\n"
          ],
          "name": "stdout"
        }
      ]
    },
    {
      "cell_type": "code",
      "metadata": {
        "id": "Q1HumymCdG6i",
        "colab_type": "code",
        "colab": {
          "base_uri": "https://localhost:8080/",
          "height": 121
        },
        "outputId": "5feb4894-306d-4aaf-af6e-1508b2e6beae"
      },
      "source": [
        "#W A P which takes two numbers from the user and prints below output:-\n",
        "#     1. num1 is greater than num2 if num1 is greater than num2\n",
        "#     2. num1 is smaller than num2 if num1 is smaller than num2\n",
        "#     3. num1 is equal to num2 if num1 and num2 are equal\n",
        "\n",
        "#Note:- 1. Do this problem using if - else \n",
        "#       2. Do this using ternary operator\n",
        "Num1 = int(input(\"Enter Number 1:\"))\n",
        "Num2 = int(input(\"Enter Number 2:\"))\n",
        "print(\"============Action1===============\")\n",
        "if(Num1>Num2):\n",
        "  print(f\"{Num1} is greater than {Num2}\")\n",
        "elif(Num1<Num2):\n",
        "  print(f\"{Num2} is greater than {Num1}\")\n",
        "else:\n",
        "  print(f\"{Num1} is equal to {Num2}\")\n",
        "print(\"============Action2===============\")\n",
        "print(f\"{Num1} is greater than {Num2}\") if (Num1>Num2) else (print(f\"{Num2} is greater than {Num1}\") if (Num1<Num2) else (print(f\"{Num1} is equal to {Num2}\")))"
      ],
      "execution_count": null,
      "outputs": [
        {
          "output_type": "stream",
          "text": [
            "Enter Number 1:10\n",
            "Enter Number 2:20\n",
            "============Action1===============\n",
            "20 is greater than 10\n",
            "============Action2===============\n",
            "20 is greater than 10\n"
          ],
          "name": "stdout"
        }
      ]
    },
    {
      "cell_type": "code",
      "metadata": {
        "id": "LR6TVB-DdOPf",
        "colab_type": "code",
        "colab": {
          "base_uri": "https://localhost:8080/",
          "height": 139
        },
        "outputId": "a3356823-e731-495c-bb90-05adcd4ace0c"
      },
      "source": [
        "#W A P which takes three numbers from the user and prints below output:-\n",
        "#     1. num1 is greater than num2 and num3 if num1 is greater than num2 and num3\n",
        "#     2. num2 is greater than num1 and num3 if num2 is greater than num1 and num3\n",
        "#     3. num3 is greater than num1 and num2 if num3 is greater than num1 and num2\n",
        "\n",
        "#Note:- 1. Do this problem using if - elif - else \n",
        "#       2. Do this using ternary operator\n",
        "\n",
        "# a = a if a>b else b\n",
        "#expr if cond1 else expr2 if cond2 else expr3\n",
        "Num1 = int(input(\"Enter Number 1:\"))\n",
        "Num2 = int(input(\"Enter Number 2:\"))\n",
        "Num3 = int(input(\"Enter Number 3:\"))\n",
        "print(\"============Action1===============\")\n",
        "if(Num3<Num1>Num2):\n",
        "  print(f\"{Num1} is greater than {Num2} and {Num3}\")\n",
        "elif(Num3>Num2):\n",
        "  print(f\"{Num3} is greater than {Num1} and {Num2}\")\n",
        "else:\n",
        "  print(f\"{Num2} is greater than {Num2} and {Num3}\")\n",
        "print(\"============Action2===============\")\n",
        "print(f\"{Num1} is greater than {Num2} and {Num3}\") if (Num3<Num1>Num2) else (print(f\"{Num3} is greater than {Num1} and {Num2}\") if (Num3>Num2) else print(f\"{Num2} is greater than {Num2} and {Num3}\"))\n"
      ],
      "execution_count": null,
      "outputs": [
        {
          "output_type": "stream",
          "text": [
            "Enter Number 1:10\n",
            "Enter Number 2:20\n",
            "Enter Number 3:30\n",
            "============Action1===============\n",
            "30 is greater than 10 and 20\n",
            "============Action2===============\n",
            "30 is greater than 10 and 20\n"
          ],
          "name": "stdout"
        }
      ]
    },
    {
      "cell_type": "markdown",
      "metadata": {
        "id": "IoOLQMUGdSox",
        "colab_type": "text"
      },
      "source": [
        "# Loops - for loop, while loop"
      ]
    },
    {
      "cell_type": "code",
      "metadata": {
        "id": "9K23Uld8dQfA",
        "colab_type": "code",
        "colab": {
          "base_uri": "https://localhost:8080/",
          "height": 52
        },
        "outputId": "75ff6f7e-7e5f-473d-927f-3018b6f86114"
      },
      "source": [
        "#Write a Python program to find the length of the my_str using loop:-\n",
        "\n",
        "#Input:- 'Write a Python program to find the length of the my_str'\n",
        "#Output:- 55\n",
        "StringToBeCounted = input(\"Enter your String: \")\n",
        "length = 0 \n",
        "for i in StringToBeCounted:\n",
        "  length = length + 1\n",
        "print(\"Length of the string is: \" + str(length))"
      ],
      "execution_count": null,
      "outputs": [
        {
          "output_type": "stream",
          "text": [
            "Enter your String: Write a Python program to find the length of the my_str\n",
            "Length of the string is: 55\n"
          ],
          "name": "stdout"
        }
      ]
    },
    {
      "cell_type": "code",
      "metadata": {
        "id": "bp6AcqTsdYxy",
        "colab_type": "code",
        "colab": {
          "base_uri": "https://localhost:8080/",
          "height": 52
        },
        "outputId": "94f7d1f5-0dbc-4ae4-9023-bdffa8de1774"
      },
      "source": [
        "#Write a Python program to find the total number of times letter 'p' is appeared in the below string using loop:-\n",
        "    \n",
        "#Input:- 'peter piper picked a peck of pickled peppers.\\n'\n",
        "#Output:- 9\n",
        "StringToBeCounted = input(\"Enter your String: \")\n",
        "length = 0 \n",
        "for i in StringToBeCounted:\n",
        "  if(i=='p'):\n",
        "    length = length + 1\n",
        "print(\"Count of p is: \" + str(length))"
      ],
      "execution_count": null,
      "outputs": [
        {
          "output_type": "stream",
          "text": [
            "Enter your String: peter piper picked a peck of pickled peppers.\\n\n",
            "Count of p is: 9\n"
          ],
          "name": "stdout"
        }
      ]
    },
    {
      "cell_type": "code",
      "metadata": {
        "id": "xvxSBhTJdav1",
        "colab_type": "code",
        "colab": {
          "base_uri": "https://localhost:8080/",
          "height": 191
        },
        "outputId": "3b0c06ff-a514-414b-ed54-52740c654efb"
      },
      "source": [
        "#Write a Python Program, to print all the indexes of all occurences of letter 'p' appeared in the string using loop:-\n",
        "    \n",
        "#Input:- 'peter piper picked a peck of pickled peppers.'\n",
        "#Output:- \n",
        "# 0\n",
        "# 6\n",
        "# 8\n",
        "# 12\n",
        "# 21\n",
        "# 29\n",
        "# 37\n",
        "# 39\n",
        "# 40\n",
        "StringToBeCounted = list(input(\"Enter your String: \"))\n",
        "length = 0 \n",
        "for i in StringToBeCounted:\n",
        "  if(i!='p'):\n",
        "    length = length + 1\n",
        "  else:\n",
        "    print(\" Position of p is \" + str(length))\n",
        "    length = length + 1\n",
        "    "
      ],
      "execution_count": null,
      "outputs": [
        {
          "output_type": "stream",
          "text": [
            "Enter your String: peter piper picked a peck of pickled peppers.\n",
            " Position of p is 0\n",
            " Position of p is 6\n",
            " Position of p is 8\n",
            " Position of p is 12\n",
            " Position of p is 21\n",
            " Position of p is 29\n",
            " Position of p is 37\n",
            " Position of p is 39\n",
            " Position of p is 40\n"
          ],
          "name": "stdout"
        }
      ]
    },
    {
      "cell_type": "code",
      "metadata": {
        "id": "79L_feMadbmw",
        "colab_type": "code",
        "colab": {
          "base_uri": "https://localhost:8080/",
          "height": 52
        },
        "outputId": "f90aed01-4b95-4597-83be-85a1b008aa33"
      },
      "source": [
        "#Write a python program to find below output using loop:-\n",
        "\n",
        "#Input:- 'peter piper picked a peck of pickled peppers.'\n",
        "#Output:- ['peter', 'piper', 'picked', 'a', 'peck', 'of', 'pickled', 'peppers']\n",
        "\n",
        "StringToBeCounted = input(\"Enter your String: \")\n",
        "resultlist=[]\n",
        "word = ''\n",
        "for i in StringToBeCounted:\n",
        "  if(i==' ' or i=='.'):\n",
        "    resultlist.append(word)\n",
        "    word=''\n",
        "    continue\n",
        "  else:\n",
        "    word=word+i\n",
        "print(resultlist)\n",
        "\n"
      ],
      "execution_count": null,
      "outputs": [
        {
          "output_type": "stream",
          "text": [
            "Enter your String: peter piper picked a peck of pickled peppers.\n",
            "['peter', 'piper', 'picked', 'a', 'peck', 'of', 'pickled', 'peppers']\n"
          ],
          "name": "stdout"
        }
      ]
    },
    {
      "cell_type": "code",
      "metadata": {
        "id": "vzs5AJ53deVS",
        "colab_type": "code",
        "colab": {
          "base_uri": "https://localhost:8080/",
          "height": 52
        },
        "outputId": "0a0a86da-fd0f-4115-beb1-981249740948"
      },
      "source": [
        "#Write a python program to find below output using loop:-\n",
        "\n",
        "#Input:- 'peter piper picked a peck of pickled peppers.'\n",
        "#Output:- 'peppers pickled of peck a picked piper peter'\n",
        "StringToBeCounted = input(\"Enter your String: \")\n",
        "resultlist=[]\n",
        "stringvar = \"\"\n",
        "word = ''\n",
        "for f in StringToBeCounted:\n",
        "  if(f==' ' or f=='.'):\n",
        "    resultlist.append(word)\n",
        "    word=''\n",
        "    continue\n",
        "  else:\n",
        "    word=word+f\n",
        "for i in range(len(resultlist)-1,-1,-1):\n",
        "  stringvar=stringvar + str(resultlist[i]) + \" \"\n",
        "print(stringvar)\n",
        "  "
      ],
      "execution_count": 16,
      "outputs": [
        {
          "output_type": "stream",
          "text": [
            "Enter your String: peter piper picked a peck of pickled peppers.\n",
            "peppers pickled of peck a picked piper peter \n"
          ],
          "name": "stdout"
        }
      ]
    },
    {
      "cell_type": "code",
      "metadata": {
        "id": "i-HP7DrCdhwS",
        "colab_type": "code",
        "colab": {
          "base_uri": "https://localhost:8080/",
          "height": 52
        },
        "outputId": "08bca744-e1d8-49f2-923d-01f9ca1e2e8f"
      },
      "source": [
        "#Write a python program to find below output using loop:-\n",
        "\n",
        "#Input:- 'peter piper picked a peck of pickled peppers.'\n",
        "#Output:- '.sreppep delkcip fo kcep a dekcip repip retep'\n",
        "StringToBeCounted = list(input(\"Enter your String: \"))\n",
        "stringvariable = \"\"\n",
        "for i in range(len(StringToBeCounted)-1,-1,-1):\n",
        "  stringvariable=stringvariable+StringToBeCounted[i]\n",
        "print(stringvariable)"
      ],
      "execution_count": 20,
      "outputs": [
        {
          "output_type": "stream",
          "text": [
            "Enter your String: peter piper picked a peck of pickled peppers.\n",
            ".sreppep delkcip fo kcep a dekcip repip retep\n"
          ],
          "name": "stdout"
        }
      ]
    },
    {
      "cell_type": "code",
      "metadata": {
        "id": "3rt6p0ytdkq0",
        "colab_type": "code",
        "colab": {
          "base_uri": "https://localhost:8080/",
          "height": 52
        },
        "outputId": "c5090f21-4978-4c02-ef3b-da10d8ebfbfe"
      },
      "source": [
        "#Write a python program to find below output using loop:-\n",
        "\n",
        "#Input:- 'peter piper picked a peck of pickled peppers.'\n",
        "#Output:- 'retep repip dekcip a kcep fo delkcip sreppep'\n",
        "StringToBeCounted = list(input(\"Enter your String: \"))\n",
        "resultlist=[]\n",
        "stringvar = \"\"\n",
        "word = ''\n",
        "reverseword=''\n",
        "reversewordString=''\n",
        "for f in StringToBeCounted:\n",
        "  if(f==' ' or f=='.'):\n",
        "    resultlist.append(word)\n",
        "    word=''\n",
        "    continue\n",
        "  else:\n",
        "    word=word+f\n",
        "for var in resultlist:\n",
        "  reverseword=''\n",
        "  for k in range(len(var)-1,-1,-1):\n",
        "    reverseword = reverseword + var[k]\n",
        "  reverseword = reverseword + ' '\n",
        "  reversewordString = reversewordString + reverseword\n",
        "print(reversewordString)"
      ],
      "execution_count": 22,
      "outputs": [
        {
          "output_type": "stream",
          "text": [
            "Enter your String: peter piper picked a peck of pickled peppers.\n",
            "retep repip dekcip a kcep fo delkcip sreppep \n"
          ],
          "name": "stdout"
        }
      ]
    },
    {
      "cell_type": "code",
      "metadata": {
        "id": "HdlAWgT2dnKO",
        "colab_type": "code",
        "colab": {
          "base_uri": "https://localhost:8080/",
          "height": 89
        },
        "outputId": "5d977093-84ea-426f-9dcf-0ea19cd9ee58"
      },
      "source": [
        "#Write a python program to find below output using loop:-\n",
        "\n",
        "#Input:- 'peter piper picked a peck of pickled peppers.'\n",
        "#Output:- 'Peter Piper Picked A Peck Of Pickled Peppers'\n",
        "StringToBeCounted = list(input(\"Enter your String: \"))\n",
        "resultstring=\"\"\n",
        "for indexing in range(len(StringToBeCounted)):\n",
        "  if(indexing==0):\n",
        "    StringToBeCounted[0]=StringToBeCounted[0].upper()\n",
        "  elif(StringToBeCounted[indexing] == ' '):\n",
        "    StringToBeCounted[indexing+1]=StringToBeCounted[indexing+1].upper()\n",
        "for f in StringToBeCounted:\n",
        "  if(f==' ' or f=='.'):\n",
        "    resultstring= resultstring + word + f\n",
        "    word=''\n",
        "    continue\n",
        "  else:\n",
        "    word=word+f\n",
        "print(resultstring)\n"
      ],
      "execution_count": 42,
      "outputs": [
        {
          "output_type": "stream",
          "text": [
            "Enter your String: peter piper picked a peck of pickled peppers.\n",
            "['P', 'e', 't', 'e', 'r', ' ', 'P', 'i', 'p', 'e', 'r', ' ', 'P', 'i', 'c', 'k', 'e', 'd', ' ', 'A', ' ', 'P', 'e', 'c', 'k', ' ', 'O', 'f', ' ', 'P', 'i', 'c', 'k', 'l', 'e', 'd', ' ', 'P', 'e', 'p', 'p', 'e', 'r', 's', '.']\n",
            "Peter Piper Picked A Peck Of Pickled Peppers.\n"
          ],
          "name": "stdout"
        }
      ]
    },
    {
      "cell_type": "code",
      "metadata": {
        "id": "OthUuacodrNl",
        "colab_type": "code",
        "colab": {
          "base_uri": "https://localhost:8080/",
          "height": 89
        },
        "outputId": "ad47d782-3988-4c91-c4af-8192ff23248d"
      },
      "source": [
        "#Write a python program to find below output using loop:-\n",
        "\n",
        "#Input:- 'Peter Piper Picked A Peck Of Pickled Peppers.'\n",
        "#Output:- 'Peter piper picked a peck of pickled peppers'\n",
        "\n",
        "StringToBeCounted = list(input(\"Enter your String: \"))\n",
        "resultstring=\"\"\n",
        "for indexing in range(len(StringToBeCounted)):\n",
        "  if(StringToBeCounted[indexing] == ' '):\n",
        "    StringToBeCounted[indexing+1]=StringToBeCounted[indexing+1].lower()\n",
        "for f in StringToBeCounted:\n",
        "  if(f==' ' or f=='.'):\n",
        "    resultstring= resultstring + word + f\n",
        "    word=''\n",
        "    continue\n",
        "  else:\n",
        "    word=word+f\n",
        "print(resultstring)"
      ],
      "execution_count": 43,
      "outputs": [
        {
          "output_type": "stream",
          "text": [
            "Enter your String: Peter Piper Picked A Peck Of Pickled Peppers.\n",
            "['P', 'e', 't', 'e', 'r', ' ', 'p', 'i', 'p', 'e', 'r', ' ', 'p', 'i', 'c', 'k', 'e', 'd', ' ', 'a', ' ', 'p', 'e', 'c', 'k', ' ', 'o', 'f', ' ', 'p', 'i', 'c', 'k', 'l', 'e', 'd', ' ', 'p', 'e', 'p', 'p', 'e', 'r', 's', '.']\n",
            "Peter piper picked a peck of pickled peppers.\n"
          ],
          "name": "stdout"
        }
      ]
    },
    {
      "cell_type": "code",
      "metadata": {
        "id": "scmDJE-ldsI9",
        "colab_type": "code",
        "colab": {
          "base_uri": "https://localhost:8080/",
          "height": 69
        },
        "outputId": "d74aefc1-a03f-4166-fafe-3c9271384cd5"
      },
      "source": [
        "#Write a python program to implement index method using loop. If sub_str is found in my_str then it will print the index\n",
        "# of first occurrence of first character of matching string in my_str:-\n",
        "\n",
        "#Input:- my_str = 'Peter Piper Picked A Peck Of Pickled Peppers.', sub_str = 'Pickl'\n",
        "#Output:- 29\n",
        "FullString = list(input(\"Enter your FullString String: \"))\n",
        "SubString = list(input(\"Enter your SubString String: \"))\n",
        "index=0\n",
        "found=False\n",
        "for j in range(len(FullString)):\n",
        "  if(SubString[0]==FullString[j]):\n",
        "    index=j\n",
        "    i=0\n",
        "    while(SubString[i]==FullString[j]):\n",
        "      if(i<len(SubString) and j<len(FullString)):\n",
        "        i=i+1\n",
        "        j=j+1\n",
        "        if(len(SubString)==i):\n",
        "          found=True\n",
        "          break\n",
        "    if(found):\n",
        "      break\n",
        "  else:\n",
        "    continue\n",
        "print(index)"
      ],
      "execution_count": 58,
      "outputs": [
        {
          "output_type": "stream",
          "text": [
            "Enter your FullString String: Peter Piper Picked A Peck Of Pickled Peppers.\n",
            "Enter your SubString String: Pickl\n",
            "29\n"
          ],
          "name": "stdout"
        }
      ]
    },
    {
      "cell_type": "code",
      "metadata": {
        "id": "Kq_fwdb_dvYE",
        "colab_type": "code",
        "colab": {
          "base_uri": "https://localhost:8080/",
          "height": 87
        },
        "outputId": "b647b44c-332f-4e74-fdac-628c82d4e817"
      },
      "source": [
        "#Write a python program to implement replace method using loop. If sub_str is found in my_str then it will replace the first \n",
        "#occurrence of sub_str with new_str else it will will print sub_str not found:-\n",
        "\n",
        "#Input:- my_str = 'Peter Piper Picked A Peck Of Pickled Peppers.', sub_str = 'Peck', new_str = 'Pack'\n",
        "#Output:- 'Peter Piper Picked A Pack Of Pickled Peppers.'\n",
        "FullString = list(input(\"Enter your FullString String: \"))\n",
        "SubString = list(input(\"Enter your SubString String: \"))\n",
        "NewSubString = list(input(\"Enter your New SubString String: \"))\n",
        "word1=''\n",
        "resultstring1=''\n",
        "index=0\n",
        "found=False\n",
        "for j in range(len(FullString)):\n",
        "  if(SubString[0]==FullString[j]):\n",
        "    index=j\n",
        "    i=0\n",
        "    while(SubString[i]==FullString[j]):\n",
        "      if(i<len(SubString) and j<len(FullString)):\n",
        "        i=i+1\n",
        "        j=j+1\n",
        "        if(len(SubString)==i):\n",
        "          found=True\n",
        "          break\n",
        "    if(found):\n",
        "      k=0\n",
        "      while k<len(NewSubString):\n",
        "        FullString[index]=NewSubString[k]\n",
        "        index=index+1\n",
        "        k=k+1\n",
        "      break\n",
        "  else:\n",
        "    continue\n",
        "for f in FullString:\n",
        "  if(f==' ' or f=='.'):\n",
        "    resultstring1= resultstring1 + word1 + f\n",
        "    word1=''\n",
        "    continue\n",
        "  else:\n",
        "    word1=word1+f\n",
        "\n",
        "print(resultstring1)\n"
      ],
      "execution_count": 66,
      "outputs": [
        {
          "output_type": "stream",
          "text": [
            "Enter your FullString String: Peter Piper Picked A Peck Of Pickled Peppers.\n",
            "Enter your SubString String: Peck\n",
            "Enter your New SubString String: Pack\n",
            "Peter Piper Picked A Pack Of Pickled Peppers.\n"
          ],
          "name": "stdout"
        }
      ]
    },
    {
      "cell_type": "code",
      "metadata": {
        "id": "4Qes5D0cdyd1",
        "colab_type": "code",
        "colab": {
          "base_uri": "https://localhost:8080/",
          "height": 70
        },
        "outputId": "c93dfc17-5b43-4f54-eb0b-3248b2ddecff"
      },
      "source": [
        "#Write a python program to find below output (implements rjust and ljust) using loop:-\n",
        "\n",
        "#Input:- 'Peter Piper Picked A Peck Of Pickled Peppers.', sub_str = 'Peck', \n",
        "#Output:- '*********************Peck********************'\n",
        "FullString = list(input(\"Enter your FullString String: \"))\n",
        "SubString = list(input(\"Enter your SubString String: \"))\n",
        "index=0\n",
        "found=False\n",
        "for j in range(len(FullString)):\n",
        "  if(SubString[0]==FullString[j]):\n",
        "    index=j\n",
        "    i=0\n",
        "    while(SubString[i]==FullString[j]):\n",
        "      if(i<len(SubString) and j<len(FullString)):\n",
        "        i=i+1\n",
        "        j=j+1\n",
        "        if(len(SubString)==i):\n",
        "          found=True\n",
        "          break\n",
        "    if(found):\n",
        "      break\n",
        "  else:\n",
        "    continue\n",
        "finalString=''\n",
        "for m in range(0,index,1):\n",
        "  FullString[m]='*'\n",
        "  finalString=finalString+FullString[m]\n",
        "for p in range(len(SubString)):\n",
        "  finalString=finalString+SubString[p]\n",
        "for n in range(j,len(FullString),1):\n",
        "  FullString[n]='*'\n",
        "  finalString=finalString+FullString[n]\n",
        "print(finalString)"
      ],
      "execution_count": 70,
      "outputs": [
        {
          "output_type": "stream",
          "text": [
            "Enter your FullString String: Peter Piper Picked A Peck Of Pickled Peppers.\n",
            "Enter your SubString String: Peck\n",
            "*********************Peck********************\n"
          ],
          "name": "stdout"
        }
      ]
    },
    {
      "cell_type": "code",
      "metadata": {
        "id": "DsOrb07Od0lR",
        "colab_type": "code",
        "colab": {}
      },
      "source": [
        "#Write a python program to find below output using loop:-\n",
        "\n",
        "#Input:- 'This is Python class', sep = 'is', \n",
        "#Output:- ['This', 'is', 'Python class']\n",
        "\n",
        "FullString = list(input(\"Enter your FullString String: \"))\n",
        "SubString = list(input(\"Enter your Sep String: \"))\n",
        "index=0\n",
        "found=False\n",
        "for j in range(len(FullString)):\n",
        "  if(SubString[0]==FullString[j] and FullString[j-1]==' '):\n",
        "    index=j\n",
        "    i=0\n",
        "    while(SubString[i]==FullString[j]):\n",
        "      if(i<len(SubString) and j<len(FullString)):\n",
        "        i=i+1\n",
        "        j=j+1\n",
        "        if(len(SubString)==i):\n",
        "          found=True\n",
        "          break\n",
        "    if(found):\n",
        "      break\n",
        "  else:\n",
        "    continue\n",
        "finalString=''\n",
        "for m in range(0,index,1):\n",
        "  FullString[m]='*'\n",
        "  finalString=finalString+FullString[m]\n",
        "for p in range(len(SubString)):\n",
        "  finalString=finalString+SubString[p]\n",
        "for n in range(j,len(FullString),1):\n",
        "  FullString[n]='*'\n",
        "  finalString=finalString+FullString[n]\n",
        "print(finalString)\n",
        "\n"
      ],
      "execution_count": null,
      "outputs": []
    },
    {
      "cell_type": "code",
      "metadata": {
        "id": "jRnBVufmd2Ay",
        "colab_type": "code",
        "colab": {
          "base_uri": "https://localhost:8080/",
          "height": 124
        },
        "outputId": "e9af57a9-bdbf-4be1-e0cd-e5d35d5b5a1c"
      },
      "source": [
        "#Write a python program which takes one input string from user and encode it in below format:-\n",
        "    # 1. #Input:- 'Python'\n",
        "       #Output:- 'R{vjqp'\n",
        "InputString = list(input(\"Enter the string to be decoded :\"))\n",
        "OutputString = ''\n",
        "for i in InputString:\n",
        "  OutputString=OutputString + chr(ord(i)+2)\n",
        "print(OutputString)     \n",
        "        \n",
        "        \n",
        "\n",
        "    # 2. #Input:- 'Python'\n",
        "       #Output:- 'Rwvfql'\n",
        "InputString = list(input(\"Enter the string to be decoded :\"))\n",
        "OutputString = ''\n",
        "for i in range(len(InputString)):\n",
        "  if(i%2==0):\n",
        "    OutputString=OutputString + chr(ord(InputString[i])+2)\n",
        "  else:\n",
        "    OutputString=OutputString + chr(ord(InputString[i])-2)\n",
        "print(OutputString)          \n",
        "        \n",
        "        \n",
        "        \n",
        "        \n",
        "    # 3. #Input:- 'Python'\n",
        "       #Output:- 'R{vkfml'\n",
        "InputString = list(input(\"Enter the string to be decoded :\"))\n",
        "OutputString = ''\n",
        "for i in range(int(len(InputString)/2)):\n",
        "  OutputString=OutputString + chr(ord(InputString[i])+2)\n",
        "for i in range(int(len(InputString)/2),len(InputString),1):\n",
        "  OutputString=OutputString + chr(ord(InputString[i])-2)\n",
        "print(OutputString)   \n",
        "\n",
        "\n"
      ],
      "execution_count": 75,
      "outputs": [
        {
          "output_type": "stream",
          "text": [
            "Enter the string to be decoded :Python\n",
            "R{vjqp\n",
            "Enter the string to be decoded :Python\n",
            "Rwvfql\n",
            "Enter the string to be decoded :Python\n",
            "R{vfml\n"
          ],
          "name": "stdout"
        }
      ]
    }
  ]
}