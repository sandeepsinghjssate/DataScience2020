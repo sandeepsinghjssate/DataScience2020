{
  "nbformat": 4,
  "nbformat_minor": 0,
  "metadata": {
    "colab": {
      "name": "List_Assignment_Sandeep_Singh.ipynb",
      "provenance": [],
      "collapsed_sections": []
    },
    "kernelspec": {
      "name": "python3",
      "display_name": "Python 3"
    }
  },
  "cells": [
    {
      "cell_type": "code",
      "metadata": {
        "id": "gtlAv2oq9yzd",
        "colab_type": "code",
        "colab": {
          "base_uri": "https://localhost:8080/",
          "height": 69
        },
        "outputId": "66f6f811-f4d3-49c5-9fee-edc7dee38e9c"
      },
      "source": [
        "#Write a Python program to find the sum of all elements in a list using loop.\n",
        "#Input:- [10,20,30,40]\n",
        "#Output:- 100\n",
        "\n",
        "InputList = eval(input(\"Enter a list with Integers: \"))\n",
        "print(f\"Input list is {InputList}\")\n",
        "s=0\n",
        "for i in range(len(InputList)):\n",
        "  s = s + (InputList[i])\n",
        "print(\"Sum of elements of Input List is {}\".format(s))\n"
      ],
      "execution_count": null,
      "outputs": [
        {
          "output_type": "stream",
          "text": [
            "Enter a list with Integers: 10, 20, 30, 40\n",
            "Input list is (10, 20, 30, 40)\n",
            "Sum of elemnts of Input Lists is 100\n"
          ],
          "name": "stdout"
        }
      ]
    },
    {
      "cell_type": "code",
      "metadata": {
        "id": "gTbA8psa93Y_",
        "colab_type": "code",
        "colab": {
          "base_uri": "https://localhost:8080/",
          "height": 69
        },
        "outputId": "2f758e86-6d47-42bc-93e4-000fd9b26a43"
      },
      "source": [
        "#Write a Python program to find the multiplication of all elements in a list using loop.\n",
        "#Input:- [10,20,30,40]\n",
        "#Output:- 240000\n",
        "InputList = eval(input(\"Enter a list with Integers: \"))\n",
        "print(f\"Input list is {InputList}\")\n",
        "s=1\n",
        "for i in range(len(InputList)):\n",
        "  s = s * (InputList[i])\n",
        "print(\"Sum of elements of Input List is {}\".format(s))"
      ],
      "execution_count": null,
      "outputs": [
        {
          "output_type": "stream",
          "text": [
            "Enter a list with Integers: 30,60,70,60\n",
            "Input list is (30, 60, 70, 60)\n",
            "Sum of elements of Input List is 7560000\n"
          ],
          "name": "stdout"
        }
      ]
    },
    {
      "cell_type": "code",
      "metadata": {
        "id": "XBCrEtLN94Lj",
        "colab_type": "code",
        "colab": {
          "base_uri": "https://localhost:8080/",
          "height": 69
        },
        "outputId": "3aec767d-ec62-4b41-f807-31a48f3a50ac"
      },
      "source": [
        "#Write a Python program to find the largest number from a list using loop.\n",
        "#Input:- [10,100,2321, 1,200,2]\n",
        "#Output:- 2321\n",
        "InputList = eval(input(\"Enter a list with Integers: \"))\n",
        "print(f\"Input list is {InputList}\")\n",
        "LargestInList = 0\n",
        "for i in range(0,len(InputList),1): #Just using range like this for practice purpose\n",
        "  if(LargestInList<InputList[i]):\n",
        "    LargestInList=InputList[i]\n",
        "  else:\n",
        "    continue\n",
        "print(f\"Largest number in the {InputList} id {LargestInList}\")"
      ],
      "execution_count": null,
      "outputs": [
        {
          "output_type": "stream",
          "text": [
            "Enter a list with Integers: 10,100,2321, 1,200,2\n",
            "Input list is (10, 100, 2321, 1, 200, 2)\n",
            "Largest number in the (10, 100, 2321, 1, 200, 2) id 2321\n"
          ],
          "name": "stdout"
        }
      ]
    },
    {
      "cell_type": "code",
      "metadata": {
        "id": "l3paUtbH94Vw",
        "colab_type": "code",
        "colab": {
          "base_uri": "https://localhost:8080/",
          "height": 69
        },
        "outputId": "7b5d13f5-7c69-4ac5-e819-cb145b60bc2d"
      },
      "source": [
        "#Write a Python program to find the smallest number from a list using loop.\n",
        "#Input:- [10,100,2321, 1,200,2]\n",
        "#Output:- 1\n",
        "InputList = eval(input(\"Enter a list with Integers: \"))\n",
        "print(f\"Input list is {InputList}\")\n",
        "SmallestInList = InputList[0]\n",
        "for i in range(len(InputList)): \n",
        "  if(SmallestInList>=InputList[i]):\n",
        "    SmallestInList=InputList[i]\n",
        "  else:\n",
        "    continue\n",
        "print(\"Smallest number in the {} id {}\".format(InputList,SmallestInList))"
      ],
      "execution_count": null,
      "outputs": [
        {
          "output_type": "stream",
          "text": [
            "Enter a list with Integers: [10,100,2321, 1,200,2]\n",
            "Input list is [10, 100, 2321, 1, 200, 2]\n",
            "Smallest number in the [10, 100, 2321, 1, 200, 2] id 1\n"
          ],
          "name": "stdout"
        }
      ]
    },
    {
      "cell_type": "code",
      "metadata": {
        "id": "JTVgy5VD94cE",
        "colab_type": "code",
        "colab": {
          "base_uri": "https://localhost:8080/",
          "height": 936
        },
        "outputId": "ac10b498-aa84-4377-fe3d-3955096f5f3a"
      },
      "source": [
        "#Write a Python program to count the number of strings having length more than 2 and are palindrome in a list using loop.\n",
        "#Input:- ['ab', 'abc', 'aba', 'xyz', '1991']\n",
        "#Output:- 2\n",
        "InputList = eval(input(\"Enter a list with Strings: \"))\n",
        "print(f\"Input list is {InputList}\")\n",
        "CountPalindromes = 0\n",
        "IsPalindrome = True\n",
        "for i in range(len(InputList)):\n",
        "  CheckString = str(InputList[i])\n",
        "  print(f\"Investigation is on: {CheckString}\")\n",
        "  j=0\n",
        "  while(j<(len(CheckString)/2+1)):\n",
        "    if(CheckString[j]==CheckString[len(CheckString)-j-1]):\n",
        "      IsPalindrome=True\n",
        "    else:\n",
        "      IsPalindrome=False\n",
        "      break\n",
        "    j=j+1\n",
        "  if(IsPalindrome==True):\n",
        "    print(f\"{CheckString} is Palindrome \")\n",
        "    CountPalindromes = CountPalindromes + 1\n",
        "  else:\n",
        "    print(f\"{CheckString} is not a Palindrome \")\n",
        "  print(\"Count of Palindrome Strings is {}\".format(CountPalindromes))\n",
        "\n",
        "print(\"==========================Another Solution========================================\")\n",
        "InputList = eval(input(\"Enter a list with Strings: \"))\n",
        "print(f\"Input list is {InputList}\")\n",
        "CountPalindromes = 0\n",
        "IsPalindrome = True\n",
        "for i in range(len(InputList)):\n",
        "  CheckString = str(InputList[i])\n",
        "  print(f\"Investigation is on: {CheckString}\")\n",
        "  j=0\n",
        "  while(j<(len(CheckString)/2+1)):\n",
        "    if(CheckString[j]==CheckString[-j -1]):#This is the change, compare the characters using negative index\n",
        "      IsPalindrome=True\n",
        "    else:\n",
        "      IsPalindrome=False\n",
        "      break\n",
        "    j=j+1\n",
        "  if(IsPalindrome==True):\n",
        "    print(f\"{CheckString} is Palindrome \")\n",
        "    CountPalindromes = CountPalindromes + 1\n",
        "  else:\n",
        "    print(f\"{CheckString} is not a Palindrome \")\n",
        "  print(\"Count of Palindrome Strings is {}\".format(CountPalindromes))"
      ],
      "execution_count": null,
      "outputs": [
        {
          "output_type": "stream",
          "text": [
            "Enter a list with Strings: 'ab', 'abc', 'aba', 'xyz', '1991', 'NALIN','NITIN','1234554321'\n",
            "Input list is ('ab', 'abc', 'aba', 'xyz', '1991', 'NALIN', 'NITIN', '1234554321')\n",
            "Investigation is on: ab\n",
            "ab is not a Palindrome \n",
            "Count of Palindrome Strings is 0\n",
            "Investigation is on: abc\n",
            "abc is not a Palindrome \n",
            "Count of Palindrome Strings is 0\n",
            "Investigation is on: aba\n",
            "aba is Palindrome \n",
            "Count of Palindrome Strings is 1\n",
            "Investigation is on: xyz\n",
            "xyz is not a Palindrome \n",
            "Count of Palindrome Strings is 1\n",
            "Investigation is on: 1991\n",
            "1991 is Palindrome \n",
            "Count of Palindrome Strings is 2\n",
            "Investigation is on: NALIN\n",
            "NALIN is not a Palindrome \n",
            "Count of Palindrome Strings is 2\n",
            "Investigation is on: NITIN\n",
            "NITIN is Palindrome \n",
            "Count of Palindrome Strings is 3\n",
            "Investigation is on: 1234554321\n",
            "1234554321 is Palindrome \n",
            "Count of Palindrome Strings is 4\n",
            "==========================Another Solution========================================\n",
            "Enter a list with Strings: 'ab', 'abc', 'aba', 'xyz', '1991', 'NALIN','NITIN','1234554321'\n",
            "Input list is ('ab', 'abc', 'aba', 'xyz', '1991', 'NALIN', 'NITIN', '1234554321')\n",
            "Investigation is on: ab\n",
            "ab is not a Palindrome \n",
            "Count of Palindrome Strings is 0\n",
            "Investigation is on: abc\n",
            "abc is not a Palindrome \n",
            "Count of Palindrome Strings is 0\n",
            "Investigation is on: aba\n",
            "aba is Palindrome \n",
            "Count of Palindrome Strings is 1\n",
            "Investigation is on: xyz\n",
            "xyz is not a Palindrome \n",
            "Count of Palindrome Strings is 1\n",
            "Investigation is on: 1991\n",
            "1991 is Palindrome \n",
            "Count of Palindrome Strings is 2\n",
            "Investigation is on: NALIN\n",
            "NALIN is not a Palindrome \n",
            "Count of Palindrome Strings is 2\n",
            "Investigation is on: NITIN\n",
            "NITIN is Palindrome \n",
            "Count of Palindrome Strings is 3\n",
            "Investigation is on: 1234554321\n",
            "1234554321 is Palindrome \n",
            "Count of Palindrome Strings is 4\n"
          ],
          "name": "stdout"
        }
      ]
    },
    {
      "cell_type": "code",
      "metadata": {
        "id": "xs-ZGJbJ94gr",
        "colab_type": "code",
        "colab": {
          "base_uri": "https://localhost:8080/",
          "height": 69
        },
        "outputId": "624992e4-1fca-47b8-f9e1-a53c81d56a21"
      },
      "source": [
        "#Write a Python program to sort a list in ascending order using loop.\n",
        "#Input:- [100,10,1,298,65,483,49876,2,80,9,9213]\n",
        "#Output:- [1,2,9,10,65,80,100,298,483,9213,49876]\n",
        "InputList = eval(input(\"Enter a list with Integers: \"))\n",
        "print(f\"Input list is {InputList}\")\n",
        "SmallestTemp = 0\n",
        "for i in range (0,len(InputList)):\n",
        "  for j in range(i+1, len(InputList)):\n",
        "    if(InputList[i]>InputList[j]):\n",
        "      SmallestTemp = InputList[i]\n",
        "      InputList[i]=InputList[j]\n",
        "      InputList[j]=SmallestTemp\n",
        "print(f\"Sorted list is {InputList}\")"
      ],
      "execution_count": null,
      "outputs": [
        {
          "output_type": "stream",
          "text": [
            "Enter a list with Integers: [100,10,1,298,65,483,49876,2,80,9,9213]\n",
            "Input list is [100, 10, 1, 298, 65, 483, 49876, 2, 80, 9, 9213]\n",
            "Sorted list is [1, 2, 9, 10, 65, 80, 100, 298, 483, 9213, 49876]\n"
          ],
          "name": "stdout"
        }
      ]
    },
    {
      "cell_type": "code",
      "metadata": {
        "id": "VhKQJizZ94kg",
        "colab_type": "code",
        "colab": {
          "base_uri": "https://localhost:8080/",
          "height": 69
        },
        "outputId": "f4cfc415-7b02-4b09-e2ef-3be4c0e84379"
      },
      "source": [
        "#Write a Python program to get a sorted list in increasing order of last element in each tuple in a given list using loop.\n",
        "#Input:- [(5,4),(9,1),(2,3),(5,9),(7,6),(5,5)]\n",
        "#output:- [(9,1),(2,3),(5,4),(5,5),(7,6),(5,9)]\n",
        "InputList = eval(input(\"Enter a list with tuples: \"))\n",
        "print(f\"Input list is {InputList}\")\n",
        "SmallestTemp = 0\n",
        "for i in range (0,len(InputList)):\n",
        "  for j in range(i+1, len(InputList)):\n",
        "    if(InputList[i][1]>InputList[j][1]):\n",
        "      SmallestTemp = InputList[i]\n",
        "      InputList[i]=InputList[j]\n",
        "      InputList[j]=SmallestTemp\n",
        "print(f\"Sorted list is {InputList}\")\n"
      ],
      "execution_count": null,
      "outputs": [
        {
          "output_type": "stream",
          "text": [
            "Enter a list with tuples: [(5,4),(9,1),(2,3),(5,9),(7,6),(5,5)]\n",
            "Input list is [(5, 4), (9, 1), (2, 3), (5, 9), (7, 6), (5, 5)]\n",
            "Sorted list is [(9, 1), (2, 3), (5, 4), (5, 5), (7, 6), (5, 9)]\n"
          ],
          "name": "stdout"
        }
      ]
    },
    {
      "cell_type": "code",
      "metadata": {
        "id": "YJrCLYp694n_",
        "colab_type": "code",
        "colab": {
          "base_uri": "https://localhost:8080/",
          "height": 69
        },
        "outputId": "f9c56490-0177-4c9d-c015-e369b60e3d69"
      },
      "source": [
        "#Write a Python program to remove fuplicate element from a list using loop.\n",
        "#Input:- [10,1,11,1,29,876,768,10,11,1,92,29,876]\n",
        "#Output:- [10,1,11,29,876,768,92]\n",
        "InputList = eval(input(\"Enter a list with Integers: \"))\n",
        "print(f\"Input list is {InputList}\")\n",
        "for i in InputList:\n",
        "  j=InputList.index(i)+1\n",
        "  while j<len(InputList):\n",
        "    if(i==InputList[j]):\n",
        "      InputList.pop(j)\n",
        "    else:\n",
        "      j=j+1\n",
        "print(f\"Output list is {InputList}\")\n",
        "\n"
      ],
      "execution_count": null,
      "outputs": [
        {
          "output_type": "stream",
          "text": [
            "Enter a list with Integers: [10,1,11,1,29,876,768,10,11,1,92,29,876]\n",
            "Input list is [10, 1, 11, 1, 29, 876, 768, 10, 11, 1, 92, 29, 876]\n",
            "Output list is [10, 1, 11, 29, 876, 768, 92]\n"
          ],
          "name": "stdout"
        }
      ]
    },
    {
      "cell_type": "code",
      "metadata": {
        "id": "koYe4YCu94rh",
        "colab_type": "code",
        "colab": {
          "base_uri": "https://localhost:8080/",
          "height": 69
        },
        "outputId": "2fa62df0-a03d-4334-927e-c1d32b7ae2df"
      },
      "source": [
        "#Write a Python program to check a list is empty or not?\n",
        "#Input:- []\n",
        "#Output:- List is empty\n",
        "#Input:- [10,20,30]\n",
        "#Output:- List is not empty\n",
        "InputList = eval(input(\"Enter a list: \"))\n",
        "print(f\"Input list is {InputList}\")\n",
        "if(len(InputList)==0):\n",
        "  print(f\"{InputList} is empty\")\n",
        "else:\n",
        "  print(f\"{InputList} is not empty\")"
      ],
      "execution_count": null,
      "outputs": [
        {
          "output_type": "stream",
          "text": [
            "Enter a list: [10,20,30]\n",
            "Input list is [10, 20, 30]\n",
            "[10, 20, 30] is not empty\n"
          ],
          "name": "stdout"
        }
      ]
    },
    {
      "cell_type": "code",
      "metadata": {
        "id": "mES1WANa94u5",
        "colab_type": "code",
        "colab": {
          "base_uri": "https://localhost:8080/",
          "height": 69
        },
        "outputId": "68e0199d-4e3f-4445-bed1-4642c6a17f21"
      },
      "source": [
        "#Write a Python program to copy a list using loop.\n",
        "#inp_lst = [10,10.20,10+20j, 'Python', [10,20], (10,20)]\n",
        "#out_lst = [10,10.20,10+20j, 'Python', [10,20], (10,20)]\n",
        "InputList = eval(input(\"Enter a list with any element: \"))\n",
        "print(f\"Input list is {InputList}\")\n",
        "OutputList = []\n",
        "for i in InputList:\n",
        "  OutputList.insert(InputList.index(i), i)\n",
        "print(OutputList)"
      ],
      "execution_count": null,
      "outputs": [
        {
          "output_type": "stream",
          "text": [
            "Enter a list with any element: [10,10.20,10+20j, 'Python', [10,20], (10,20)]\n",
            "Input list is [10, 10.2, (10+20j), 'Python', [10, 20], (10, 20)]\n",
            "[10, 10.2, (10+20j), 'Python', [10, 20], (10, 20)]\n"
          ],
          "name": "stdout"
        }
      ]
    },
    {
      "cell_type": "code",
      "metadata": {
        "id": "CpBh31WO94yi",
        "colab_type": "code",
        "colab": {
          "base_uri": "https://localhost:8080/",
          "height": 69
        },
        "outputId": "4d77a218-f854-4128-e22d-6fd743ce4755"
      },
      "source": [
        "#Write a Python program to find the list of words that are longer than or equal to 4 from a given string.\n",
        "#Input:- 'How much wood would a woodchuck chuck if a woodchuck could chuck wood'\n",
        "#Output:- ['much', 'wood', 'would', 'woodchuck', 'chuck', 'could', 'could']\n",
        "#Note:- Duplicate should be avoided.\n",
        "InputList = list(eval(input(\"Enter a Sentence: \")).split(\" \"))\n",
        "print(f\"Input list is {InputList}\")\n",
        "i=0\n",
        "while i < len(InputList):\n",
        "  if(len(InputList[i])<4):\n",
        "    InputList.pop(i)\n",
        "  elif(len(InputList[i])>=4 and i>0):\n",
        "    j=i-1\n",
        "    while j>=0:\n",
        "      if(InputList[j]==InputList[i]):\n",
        "        InputList.pop(i)\n",
        "        break\n",
        "      else:\n",
        "        if(j!=0):\n",
        "          j=j-1\n",
        "        else:\n",
        "          i=i+1\n",
        "          break\n",
        "  else:\n",
        "    i = i +1\n",
        "print(InputList)\n"
      ],
      "execution_count": null,
      "outputs": [
        {
          "output_type": "stream",
          "text": [
            "Enter a Sentence: 'How much wood would a woodchuck chuck if a woodchuck could chuck wood'\n",
            "Input list is ['How', 'much', 'wood', 'would', 'a', 'woodchuck', 'chuck', 'if', 'a', 'woodchuck', 'could', 'chuck', 'wood']\n",
            "['much', 'wood', 'would', 'woodchuck', 'chuck', 'could']\n"
          ],
          "name": "stdout"
        }
      ]
    },
    {
      "cell_type": "code",
      "metadata": {
        "id": "YVfj0fgZ9416",
        "colab_type": "code",
        "colab": {
          "base_uri": "https://localhost:8080/",
          "height": 104
        },
        "outputId": "fc8a1168-ddde-4b06-c5ef-9aa485a755fd"
      },
      "source": [
        "#Write a Python program which takes two list as input and returns True if they have at least 3 common elements.\n",
        "#inp_lst1 = [10,20,'Python', 10.20, 10+20j, [10,20,30], (10,20,30)]\n",
        "#inp_lst2 = [(10,20,30),1,20+3j,100.2, 10+20j, [10,20,30],'Python']\n",
        "#Output:- True\n",
        "InputList1 = eval(input(\"Enter a list 1 with any element: \"))\n",
        "print(f\"Input list 1 is {InputList1}\")\n",
        "InputList2 = eval(input(\"Enter a list 2 with any element: \"))\n",
        "print(f\"Input list 2 is {InputList2}\")\n",
        "CommonElem=0\n",
        "CommonProp=False\n",
        "for j in InputList1:\n",
        "  for i in InputList2:\n",
        "    if(i==j):\n",
        "      CommonElem=CommonElem+1\n",
        "      break\n",
        "  if(CommonElem==3):\n",
        "    CommonProp=True\n",
        "    break\n",
        "print(CommonProp)\n"
      ],
      "execution_count": null,
      "outputs": [
        {
          "output_type": "stream",
          "text": [
            "Enter a list 1 with any element: [(10,20,30),1,20+3j,100.2, 10+20j, [10,20,30],'Python']\n",
            "Input list 1 is [(10, 20, 30), 1, (20+3j), 100.2, (10+20j), [10, 20, 30], 'Python']\n",
            "Enter a list 2 with any element: [[10,20,30],'Python']\n",
            "Input list 2 is [[10, 20, 30], 'Python']\n",
            "False\n"
          ],
          "name": "stdout"
        }
      ]
    },
    {
      "cell_type": "code",
      "metadata": {
        "id": "7vwc3pjR945O",
        "colab_type": "code",
        "colab": {
          "base_uri": "https://localhost:8080/",
          "height": 35
        },
        "outputId": "3e5fc4e8-fa8b-4fc4-f4c8-609ba11470d3"
      },
      "source": [
        "#Write a Python program to create a 4X4 2D matrix with below elements using loop and list comprehension both.\n",
        "#Output:- [[0,0,0,0],[0,1,2,3],[0,2,4,6],[0,3,6,9]]\n",
        "FinalList=[]\n",
        "IntList=[]\n",
        "for i in range(4):\n",
        "  for j in range(4):\n",
        "    IntList.append(i*j)\n",
        "  FinalList.insert(i,IntList)\n",
        "  IntList=[]\n",
        "print(FinalList)"
      ],
      "execution_count": null,
      "outputs": [
        {
          "output_type": "stream",
          "text": [
            "[[0, 0, 0, 0], [0, 1, 2, 3], [0, 2, 4, 6], [0, 3, 6, 9]]\n"
          ],
          "name": "stdout"
        }
      ]
    },
    {
      "cell_type": "code",
      "metadata": {
        "id": "Pxafor84948b",
        "colab_type": "code",
        "colab": {
          "base_uri": "https://localhost:8080/",
          "height": 55
        },
        "outputId": "68f1c524-e5dd-4ef1-d314-dfa78a06a7ac"
      },
      "source": [
        "#Write a Python program to create a 3X4X6 3D matrix wiith below elements using loop\n",
        "#Output:- \n",
        "# [\n",
        "#     [[0,0,0,0,0,0],[0,0,0,0,0,0],[0,0,0,0,0,0],[0,0,0,0,0,0]],\n",
        "#     [[0,0,0,0,0,0],[1,1,1,1,1,1],[2,2,2,2,2,2],[3,3,3,3,3,3]],\n",
        "#     [[0,0,0,0,0,0],[2,2,2,2,2,2],[4,4,4,4,4,4],[6,6,6,6,6,6]]\n",
        "# ]\n",
        "FinalList=[]\n",
        "IntList1=[]\n",
        "IntList2=[]\n",
        "for i in range(3):\n",
        "  for j in range(4):\n",
        "    for k in range(6):\n",
        "      IntList1.append(i*j)\n",
        "    IntList2.insert(j,IntList1)\n",
        "    IntList1=[]\n",
        "  FinalList.insert(1,IntList2)\n",
        "  IntList2=[]\n",
        "print(FinalList)"
      ],
      "execution_count": 2,
      "outputs": [
        {
          "output_type": "stream",
          "text": [
            "[[[0, 0, 0, 0, 0, 0], [0, 0, 0, 0, 0, 0], [0, 0, 0, 0, 0, 0], [0, 0, 0, 0, 0, 0]], [[0, 0, 0, 0, 0, 0], [2, 2, 2, 2, 2, 2], [4, 4, 4, 4, 4, 4], [6, 6, 6, 6, 6, 6]], [[0, 0, 0, 0, 0, 0], [1, 1, 1, 1, 1, 1], [2, 2, 2, 2, 2, 2], [3, 3, 3, 3, 3, 3]]]\n"
          ],
          "name": "stdout"
        }
      ]
    },
    {
      "cell_type": "code",
      "metadata": {
        "id": "lYNv8gk794_p",
        "colab_type": "code",
        "colab": {
          "base_uri": "https://localhost:8080/",
          "height": 69
        },
        "outputId": "988aa61f-b66c-4d34-d0ad-e6652f8b29ae"
      },
      "source": [
        "#Write a Python program which takes a list of numbers as input and prints a new list after removing even numbers from it.\n",
        "#Input:- [10,21,22,98,87,45,33,1,2,100]\n",
        "#Output:- [21,87,45,33,1]\n",
        "InputList = eval(input(\"Enter a list with integers: \"))\n",
        "print(f\"Input list  is {InputList}\")\n",
        "j=0\n",
        "while j<len(InputList):\n",
        "  if(InputList[j]%2==0):\n",
        "    InputList.pop(j)\n",
        "  else:\n",
        "    j=j+1\n",
        "print(InputList)"
      ],
      "execution_count": null,
      "outputs": [
        {
          "output_type": "stream",
          "text": [
            "Enter a list with integers: [10,21,22,98,87,45,33,1,2,100]\n",
            "Input list  is [10, 21, 22, 98, 87, 45, 33, 1, 2, 100]\n",
            "[21, 87, 45, 33, 1]\n"
          ],
          "name": "stdout"
        }
      ]
    },
    {
      "cell_type": "code",
      "metadata": {
        "id": "3BaCb-rB95B7",
        "colab_type": "code",
        "colab": {
          "base_uri": "https://localhost:8080/",
          "height": 69
        },
        "outputId": "7aac9af6-5e4d-4813-c3c1-55ff3c25a42c"
      },
      "source": [
        "#Write a Python program which takes a list from the user and prints it after reshuffling the elements of the list.\n",
        "#Input:- [10,21,22,98,87,45,33,1,2,100]\n",
        "#Output:- [1,87,21,10,33,2,100,45,98,22] (It may be any randon list but with same elements)\n",
        "import random\n",
        "InputList = eval(input(\"Enter a list with integers: \"))\n",
        "print(f\"Input list  is {InputList}\")\n",
        "ShuffledList=[]\n",
        "j=0\n",
        "while len(InputList)>0:\n",
        "  rndm=random.choice(InputList)\n",
        "  for j in InputList:\n",
        "    if(rndm==j):\n",
        "      InputList.pop(InputList.index(j))\n",
        "      ShuffledList.append(rndm)\n",
        "      break\n",
        "print(ShuffledList)"
      ],
      "execution_count": null,
      "outputs": [
        {
          "output_type": "stream",
          "text": [
            "Enter a list with integers: [10,21,22,98,87,45,33,1,2,100]\n",
            "Input list  is [10, 21, 22, 98, 87, 45, 33, 1, 2, 100]\n",
            "[45, 98, 22, 2, 100, 87, 10, 33, 21, 1]\n"
          ],
          "name": "stdout"
        }
      ]
    }
  ]
}